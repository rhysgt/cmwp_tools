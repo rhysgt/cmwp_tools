{
 "cells": [
  {
   "cell_type": "markdown",
   "metadata": {},
   "source": [
    "# Extract data from .sol files"
   ]
  },
  {
   "cell_type": "markdown",
   "metadata": {},
   "source": [
    "Use this if you are using the Wilkens function mode 2 to extract <a> loop (phase 0) and <c> loop (phase 1)densities"
   ]
  },
  {
   "cell_type": "markdown",
   "metadata": {
    "jupyter": {
     "source_hidden": true
    },
    "tags": []
   },
   "source": [
    "This workbook is an example of how the extractDataDir function can be used to extract physical paramaters from a folder a .sol files. "
   ]
  },
  {
   "cell_type": "markdown",
   "metadata": {},
   "source": [
    "This data frame is then manipulated for plotting data from a synchrotron experiment as an example."
   ]
  },
  {
   "cell_type": "markdown",
   "metadata": {},
   "source": [
    "## Import stuff"
   ]
  },
  {
   "cell_type": "code",
   "execution_count": 9,
   "metadata": {},
   "outputs": [],
   "source": [
    "import pandas as pd\n",
    "import matplotlib.pyplot as plt\n",
    "import mplcursors\n",
    "%matplotlib qt5\n",
    "\n",
    "from src.cmwp_tools import extractDataDir\n",
    "from src.xrd_tools import addLabels"
   ]
  },
  {
   "cell_type": "markdown",
   "metadata": {},
   "source": [
    "## Extract data from solution files"
   ]
  },
  {
   "cell_type": "markdown",
   "metadata": {},
   "source": [
    "This code extracts data from CMWP .sol files"
   ]
  },
  {
   "cell_type": "code",
   "execution_count": null,
   "metadata": {},
   "outputs": [],
   "source": [
    "directory = '/home/rhys/Documents/CMWP-211102/2020_11_DESY/hyd/'\n",
    "data_df = extractDataDir(directory+'*.sol', calcLoop=False, wavelength=0.018505104)\n",
    "unique = [20.695, 21.195, 21.695]\n",
    "edges = [14.918, 14.918, 14.919]\n",
    "dpa_val = 0.1\n",
    "name='0.1_'"
   ]
  },
  {
   "cell_type": "code",
   "execution_count": 158,
   "metadata": {},
   "outputs": [
    {
     "name": "stdout",
     "output_type": "stream",
     "text": [
      "Parsing 117 solution files...\n",
      "Parsed 117 solution files succesfully                                                                  \n",
      "Done!\n"
     ]
    }
   ],
   "source": [
    "directory = '/home/rhys/Documents/CMWP-211102/2020_11_DESY/hyd_3p/'\n",
    "data_df = extractDataDir(directory+'*.sol', calcLoop=False, wavelength=0.018505104)\n",
    "unique = [20.695, 21.195, 21.695]\n",
    "edges = [14.918, 14.918, 14.919]\n",
    "dpa_val = 0.1\n",
    "name='0.1_3p'"
   ]
  },
  {
   "cell_type": "code",
   "execution_count": null,
   "metadata": {},
   "outputs": [],
   "source": [
    "directory = '/home/rhys/Documents/CMWP-211102/2020_11_DESY/hyd_3p_80_100/'\n",
    "data_df = extractDataDir(directory+'*.sol', calcLoop=False, wavelength=0.018505104)\n",
    "unique = [20.695, 21.195, 21.695]\n",
    "edges = [14.918, 14.918, 14.919]\n",
    "dpa_val = 0.1\n",
    "name='0.1_3p_hor'"
   ]
  },
  {
   "cell_type": "code",
   "execution_count": 177,
   "metadata": {},
   "outputs": [
    {
     "name": "stdout",
     "output_type": "stream",
     "text": [
      "Parsing 88 solution files...\n",
      "Parsed 84 solution files succesfully                                                                 \n",
      "\"*** END\" not present in 4                                                                     \n",
      "Done!\n"
     ]
    }
   ],
   "source": [
    "directory = '/home/rhys/Documents/CMWP-211102/2020_11_DESY/dpa2/'\n",
    "data_df = extractDataDir(directory+'*.sol', calcLoop=False, wavelength=0.018505104)\n",
    "unique = [9.245, 9.745, 10.245, 10.745, 11.245]\n",
    "edges = [14.839, 14.838, 14.835, 14.834, 14.832]\n",
    "dpa_val = 2\n",
    "name='2.0_'"
   ]
  },
  {
   "cell_type": "code",
   "execution_count": 169,
   "metadata": {},
   "outputs": [
    {
     "name": "stdout",
     "output_type": "stream",
     "text": [
      "Parsing 110 solution files...\n",
      "Parsed 109 solution files succesfully                                                                 \n",
      "\"*** END\" not present in 1                                                                     \n",
      "Done!\n"
     ]
    }
   ],
   "source": [
    "directory = '/home/rhys/Documents/CMWP-211102/2020_11_DESY/dpa05/'\n",
    "data_df = extractDataDir(directory+'*.sol', calcLoop=False, wavelength=0.018505104)\n",
    "#print(data_df['y'].unique())\n",
    "unique = [-5.5, -5, -4.5, -4, -3.5]\n",
    "edges = [14.780, 14.782, 14.782, 14.782, 14.782]\n",
    "dpa_val = 0.5\n",
    "name='0.5_'"
   ]
  },
  {
   "cell_type": "code",
   "execution_count": 173,
   "metadata": {},
   "outputs": [
    {
     "name": "stdout",
     "output_type": "stream",
     "text": [
      "Parsing 78 solution files...\n",
      "Parsed 76 solution files succesfully                                                                \n",
      "\"*** END\" not present in 2                                                                     \n",
      "Done!\n"
     ]
    }
   ],
   "source": [
    "directory = '/home/rhys/Documents/CMWP-211102/2020_11_DESY/dpa1/'\n",
    "data_df = extractDataDir(directory+'*.sol', calcLoop=False, wavelength=0.018505104)\n",
    "unique = [3.249, 3.749, 4.249]\n",
    "edges = [14.820, 14.816, 14.812]\n",
    "edges = [14.820, 14.818, 14.814]\n",
    "dpa_val = 1\n",
    "name='1.0_'"
   ]
  },
  {
   "cell_type": "markdown",
   "metadata": {},
   "source": [
    "## Pull out z and y values from filename, calculate depth from edge and add dpa"
   ]
  },
  {
   "cell_type": "code",
   "execution_count": 178,
   "metadata": {},
   "outputs": [],
   "source": [
    "data_df[['f2', 'y', 'f4', 'z']] = data_df['filename'].str.split('_',expand=True)               # Split by '_'\n",
    "data_df.drop(['f2', 'f4'], axis=1, inplace=True)                        # Clear un-needed columns\n",
    "data_df['y'] = pd.to_numeric(data_df['y'], downcast=\"float\")\n",
    "data_df['z'] = pd.to_numeric(data_df['z'], downcast=\"float\")\n",
    "\n",
    "# Rearrange to put y and z first\n",
    "cols = data_df.columns.tolist()\n",
    "data_df=data_df[cols[-2:] + cols[:-2]]\n",
    "\n",
    "# Calculate depth\n",
    "data_df.insert(0, 'depth', data_df['y'])\n",
    "data_df['depth'].replace(to_replace=unique, value=edges, inplace=True)\n",
    "data_df['depth'] = data_df['z'] - data_df['depth']\n",
    "data_df['depth'] = np.round(data_df['depth'] * 1000,1)\n",
    "\n",
    "# Add dpa column\n",
    "depth, dpa = np.loadtxt('data/srim.txt')\n",
    "dpa *= dpa_val\n",
    "depth_int = list(depth)+list((depth[0:-1]+depth[1:])/2)\n",
    "dpa_int = list(dpa)+list((dpa[0:-1]+dpa[1:])/2)\n",
    "index = np.argsort(depth_int)\n",
    "depth_int = np.array(depth_int)[index]\n",
    "dpa_int = np.array(dpa_int)[index]\n",
    "data_df['dpa'] = [dpa_int[np.argmin(np.abs(i-depth_int))] for i in data_df['depth']]\n",
    "\n",
    "phases = np.array(data_df['peak_phase'][3])\n",
    "poss = np.array(data_df['peak_pos'][3])\n",
    "names = np.array(data_df['peak_names'][3])\n",
    "\n",
    "phaseNames = ['Zr', 'SPP', 'ZrH']\n",
    "hkls = [names[phases==0], names[phases==2], names[phases==3]]\n",
    "peakPos = [poss[phases==0], poss[phases==2], poss[phases==3]]\n",
    "colours = ['b', 'r', 'g']"
   ]
  },
  {
   "cell_type": "code",
   "execution_count": null,
   "metadata": {},
   "outputs": [],
   "source": [
    "print(data_df.columns)"
   ]
  },
  {
   "cell_type": "code",
   "execution_count": null,
   "metadata": {
    "scrolled": true
   },
   "outputs": [],
   "source": [
    "data_df"
   ]
  },
  {
   "cell_type": "markdown",
   "metadata": {},
   "source": [
    "## Get a list of phase names, hkls, positions"
   ]
  },
  {
   "cell_type": "markdown",
   "metadata": {},
   "source": [
    "## Plot every other"
   ]
  },
  {
   "cell_type": "code",
   "execution_count": 160,
   "metadata": {},
   "outputs": [
    {
     "ename": "OSError",
     "evalue": "/home/rhys/Documents/CMWP-211102/2020_11_DESY/hyd_3p/y_21.695_z_14.dat not found.",
     "output_type": "error",
     "traceback": [
      "\u001b[0;31m---------------------------------------------------------------------------\u001b[0m",
      "\u001b[0;31mOSError\u001b[0m                                   Traceback (most recent call last)",
      "\u001b[0;32m<ipython-input-160-736786e563e8>\u001b[0m in \u001b[0;36m<module>\u001b[0;34m\u001b[0m\n\u001b[1;32m     13\u001b[0m \u001b[0mi\u001b[0m\u001b[0;34m=\u001b[0m\u001b[0;36m0\u001b[0m\u001b[0;34m\u001b[0m\u001b[0;34m\u001b[0m\u001b[0m\n\u001b[1;32m     14\u001b[0m \u001b[0;32mfor\u001b[0m \u001b[0mfname\u001b[0m\u001b[0;34m,\u001b[0m \u001b[0mdepth\u001b[0m\u001b[0;34m,\u001b[0m \u001b[0mc\u001b[0m\u001b[0;34m,\u001b[0m \u001b[0mdpa\u001b[0m \u001b[0;32min\u001b[0m \u001b[0mzip\u001b[0m\u001b[0;34m(\u001b[0m\u001b[0mfnames\u001b[0m\u001b[0;34m,\u001b[0m \u001b[0mdepths\u001b[0m\u001b[0;34m,\u001b[0m \u001b[0mcolors\u001b[0m\u001b[0;34m,\u001b[0m \u001b[0mdpas\u001b[0m\u001b[0;34m)\u001b[0m\u001b[0;34m:\u001b[0m\u001b[0;34m\u001b[0m\u001b[0;34m\u001b[0m\u001b[0m\n\u001b[0;32m---> 15\u001b[0;31m     \u001b[0mx\u001b[0m\u001b[0;34m,\u001b[0m \u001b[0my\u001b[0m \u001b[0;34m=\u001b[0m \u001b[0mnp\u001b[0m\u001b[0;34m.\u001b[0m\u001b[0mloadtxt\u001b[0m\u001b[0;34m(\u001b[0m\u001b[0mfname\u001b[0m\u001b[0;34m,\u001b[0m \u001b[0munpack\u001b[0m\u001b[0;34m=\u001b[0m\u001b[0;32mTrue\u001b[0m\u001b[0;34m)\u001b[0m\u001b[0;34m\u001b[0m\u001b[0;34m\u001b[0m\u001b[0m\n\u001b[0m\u001b[1;32m     16\u001b[0m     \u001b[0max\u001b[0m\u001b[0;34m.\u001b[0m\u001b[0mplot\u001b[0m\u001b[0;34m(\u001b[0m\u001b[0mx\u001b[0m\u001b[0;34m,\u001b[0m\u001b[0mnp\u001b[0m\u001b[0;34m.\u001b[0m\u001b[0mlog\u001b[0m\u001b[0;34m(\u001b[0m\u001b[0my\u001b[0m\u001b[0;34m)\u001b[0m\u001b[0;34m+\u001b[0m\u001b[0mi\u001b[0m\u001b[0;34m,\u001b[0m \u001b[0;34m'o-'\u001b[0m\u001b[0;34m,\u001b[0m \u001b[0mmarkersize\u001b[0m\u001b[0;34m=\u001b[0m\u001b[0;36m1\u001b[0m\u001b[0;34m,\u001b[0m  \u001b[0mcolor\u001b[0m\u001b[0;34m=\u001b[0m\u001b[0mc\u001b[0m\u001b[0;34m,\u001b[0m \u001b[0mlw\u001b[0m\u001b[0;34m=\u001b[0m\u001b[0;36m1\u001b[0m\u001b[0;34m,\u001b[0m \u001b[0mlabel\u001b[0m\u001b[0;34m=\u001b[0m\u001b[0mstr\u001b[0m\u001b[0;34m(\u001b[0m\u001b[0mdepth\u001b[0m\u001b[0;34m)\u001b[0m\u001b[0;34m[\u001b[0m\u001b[0;34m:\u001b[0m\u001b[0;34m-\u001b[0m\u001b[0;36m2\u001b[0m\u001b[0;34m]\u001b[0m \u001b[0;34m+\u001b[0m \u001b[0;34m'um = '\u001b[0m \u001b[0;34m+\u001b[0m \u001b[0mstr\u001b[0m\u001b[0;34m(\u001b[0m\u001b[0mdpa\u001b[0m\u001b[0;34m)\u001b[0m\u001b[0;34m[\u001b[0m\u001b[0;34m:\u001b[0m\u001b[0;36m4\u001b[0m\u001b[0;34m]\u001b[0m \u001b[0;34m+\u001b[0m \u001b[0;34m' dpa'\u001b[0m\u001b[0;34m)\u001b[0m\u001b[0;34m\u001b[0m\u001b[0;34m\u001b[0m\u001b[0m\n\u001b[1;32m     17\u001b[0m     \u001b[0mi\u001b[0m\u001b[0;34m-=\u001b[0m\u001b[0;36m0.2\u001b[0m\u001b[0;34m\u001b[0m\u001b[0;34m\u001b[0m\u001b[0m\n",
      "\u001b[0;32m~/anaconda3/lib/python3.7/site-packages/numpy/lib/npyio.py\u001b[0m in \u001b[0;36mloadtxt\u001b[0;34m(fname, dtype, comments, delimiter, converters, skiprows, usecols, unpack, ndmin, encoding, max_rows, like)\u001b[0m\n\u001b[1;32m   1063\u001b[0m             \u001b[0mfname\u001b[0m \u001b[0;34m=\u001b[0m \u001b[0mos_fspath\u001b[0m\u001b[0;34m(\u001b[0m\u001b[0mfname\u001b[0m\u001b[0;34m)\u001b[0m\u001b[0;34m\u001b[0m\u001b[0;34m\u001b[0m\u001b[0m\n\u001b[1;32m   1064\u001b[0m         \u001b[0;32mif\u001b[0m \u001b[0m_is_string_like\u001b[0m\u001b[0;34m(\u001b[0m\u001b[0mfname\u001b[0m\u001b[0;34m)\u001b[0m\u001b[0;34m:\u001b[0m\u001b[0;34m\u001b[0m\u001b[0;34m\u001b[0m\u001b[0m\n\u001b[0;32m-> 1065\u001b[0;31m             \u001b[0mfh\u001b[0m \u001b[0;34m=\u001b[0m \u001b[0mnp\u001b[0m\u001b[0;34m.\u001b[0m\u001b[0mlib\u001b[0m\u001b[0;34m.\u001b[0m\u001b[0m_datasource\u001b[0m\u001b[0;34m.\u001b[0m\u001b[0mopen\u001b[0m\u001b[0;34m(\u001b[0m\u001b[0mfname\u001b[0m\u001b[0;34m,\u001b[0m \u001b[0;34m'rt'\u001b[0m\u001b[0;34m,\u001b[0m \u001b[0mencoding\u001b[0m\u001b[0;34m=\u001b[0m\u001b[0mencoding\u001b[0m\u001b[0;34m)\u001b[0m\u001b[0;34m\u001b[0m\u001b[0;34m\u001b[0m\u001b[0m\n\u001b[0m\u001b[1;32m   1066\u001b[0m             \u001b[0mfencoding\u001b[0m \u001b[0;34m=\u001b[0m \u001b[0mgetattr\u001b[0m\u001b[0;34m(\u001b[0m\u001b[0mfh\u001b[0m\u001b[0;34m,\u001b[0m \u001b[0;34m'encoding'\u001b[0m\u001b[0;34m,\u001b[0m \u001b[0;34m'latin1'\u001b[0m\u001b[0;34m)\u001b[0m\u001b[0;34m\u001b[0m\u001b[0;34m\u001b[0m\u001b[0m\n\u001b[1;32m   1067\u001b[0m             \u001b[0mfh\u001b[0m \u001b[0;34m=\u001b[0m \u001b[0miter\u001b[0m\u001b[0;34m(\u001b[0m\u001b[0mfh\u001b[0m\u001b[0;34m)\u001b[0m\u001b[0;34m\u001b[0m\u001b[0;34m\u001b[0m\u001b[0m\n",
      "\u001b[0;32m~/anaconda3/lib/python3.7/site-packages/numpy/lib/_datasource.py\u001b[0m in \u001b[0;36mopen\u001b[0;34m(path, mode, destpath, encoding, newline)\u001b[0m\n\u001b[1;32m    192\u001b[0m \u001b[0;34m\u001b[0m\u001b[0m\n\u001b[1;32m    193\u001b[0m     \u001b[0mds\u001b[0m \u001b[0;34m=\u001b[0m \u001b[0mDataSource\u001b[0m\u001b[0;34m(\u001b[0m\u001b[0mdestpath\u001b[0m\u001b[0;34m)\u001b[0m\u001b[0;34m\u001b[0m\u001b[0;34m\u001b[0m\u001b[0m\n\u001b[0;32m--> 194\u001b[0;31m     \u001b[0;32mreturn\u001b[0m \u001b[0mds\u001b[0m\u001b[0;34m.\u001b[0m\u001b[0mopen\u001b[0m\u001b[0;34m(\u001b[0m\u001b[0mpath\u001b[0m\u001b[0;34m,\u001b[0m \u001b[0mmode\u001b[0m\u001b[0;34m,\u001b[0m \u001b[0mencoding\u001b[0m\u001b[0;34m=\u001b[0m\u001b[0mencoding\u001b[0m\u001b[0;34m,\u001b[0m \u001b[0mnewline\u001b[0m\u001b[0;34m=\u001b[0m\u001b[0mnewline\u001b[0m\u001b[0;34m)\u001b[0m\u001b[0;34m\u001b[0m\u001b[0;34m\u001b[0m\u001b[0m\n\u001b[0m\u001b[1;32m    195\u001b[0m \u001b[0;34m\u001b[0m\u001b[0m\n\u001b[1;32m    196\u001b[0m \u001b[0;34m\u001b[0m\u001b[0m\n",
      "\u001b[0;32m~/anaconda3/lib/python3.7/site-packages/numpy/lib/_datasource.py\u001b[0m in \u001b[0;36mopen\u001b[0;34m(self, path, mode, encoding, newline)\u001b[0m\n\u001b[1;32m    529\u001b[0m                                       encoding=encoding, newline=newline)\n\u001b[1;32m    530\u001b[0m         \u001b[0;32melse\u001b[0m\u001b[0;34m:\u001b[0m\u001b[0;34m\u001b[0m\u001b[0;34m\u001b[0m\u001b[0m\n\u001b[0;32m--> 531\u001b[0;31m             \u001b[0;32mraise\u001b[0m \u001b[0mIOError\u001b[0m\u001b[0;34m(\u001b[0m\u001b[0;34m\"%s not found.\"\u001b[0m \u001b[0;34m%\u001b[0m \u001b[0mpath\u001b[0m\u001b[0;34m)\u001b[0m\u001b[0;34m\u001b[0m\u001b[0;34m\u001b[0m\u001b[0m\n\u001b[0m\u001b[1;32m    532\u001b[0m \u001b[0;34m\u001b[0m\u001b[0m\n\u001b[1;32m    533\u001b[0m \u001b[0;34m\u001b[0m\u001b[0m\n",
      "\u001b[0;31mOSError\u001b[0m: /home/rhys/Documents/CMWP-211102/2020_11_DESY/hyd_3p/y_21.695_z_14.dat not found."
     ]
    }
   ],
   "source": [
    "fnames = list(directory + data_df[(data_df['y'] == unique[2]) & (data_df['depth'] > 2)]['filename'].str[:-4]+'.dat')[::2][:9]\n",
    "depths = data_df[(data_df['y'] == unique[2]) & (data_df['depth'] > 2)]['depth'][::2][:9]\n",
    "dpas = data_df[(data_df['y'] == unique[2]) & (data_df['depth'] > 2)]['dpa'][::2][:9]\n",
    "\n",
    "from matplotlib.cm import get_cmap\n",
    "cmap = get_cmap('viridis')\n",
    "\n",
    "colors = [cmap(i) for i in np.linspace(0, 0.9, len(fnames))]  # Linear colour against depth\n",
    "colors = [cmap(i/np.max(dpas)) for i in dpas]                 # Linear colour against dpa\n",
    "\n",
    "f, (lax, ax) = plt.subplots(2,1, gridspec_kw={'height_ratios': [1, 5]}, figsize = (10, 5), sharex=True)\n",
    "\n",
    "i=0\n",
    "for fname, depth, c, dpa in zip(fnames, depths, colors, dpas):\n",
    "    x, y = np.loadtxt(fname, unpack=True)\n",
    "    ax.plot(x,np.log(y)+i, 'o-', markersize=1,  color=c, lw=1, label=str(depth)[:-2] + 'um = ' + str(dpa)[:4] + ' dpa')\n",
    "    i-=0.2\n",
    "    \n",
    "plt.legend()\n",
    "#plt.yscale('log')\n",
    "plt.xlim(np.min(x), np.max(x))\n",
    "\n",
    "plt.xlabel('2theta (degree)')\n",
    "plt.ylabel('log(Intensity)')\n",
    "\n",
    "\n",
    "# plot labels\n",
    "\n",
    "addLabels(ax=ax, lax=lax, names=phaseNames, hkls=hkls, positions=peakPos, colours=colours)"
   ]
  },
  {
   "cell_type": "code",
   "execution_count": null,
   "metadata": {},
   "outputs": [],
   "source": [
    "plt.savefig('/home/rhys/Dropbox (Research Group)/Postdoc/DESY/Results_new/'+name+'_zoom.pdf', dpi=600)"
   ]
  },
  {
   "cell_type": "markdown",
   "metadata": {},
   "source": [
    "## Plot raw data"
   ]
  },
  {
   "cell_type": "code",
   "execution_count": 7,
   "metadata": {
    "tags": []
   },
   "outputs": [],
   "source": [
    "def plotfig(num):\n",
    "    \n",
    "    f, (lax, ax) = plt.subplots(2,1, gridspec_kw={'height_ratios': [1, 5]}, figsize = (14, 8), sharex=True)\n",
    "   \n",
    "    data = list(directory + data_df['filename']+'.dat')[num]\n",
    "    back = list(directory + data_df['filename']+'.int.bg.dat')[num]\n",
    "    \n",
    "    calc = list(directory + data_df['filename']+'.int.th.dat')[num]\n",
    "\n",
    "    # Plot data\n",
    "    x_data, y_data = np.loadtxt(data, unpack=True)\n",
    "    ax.plot(x_data, y_data, '--', lw=1, c='g', label='measured')\n",
    "    \n",
    "    # Plot calculated\n",
    "    x, y = np.loadtxt(calc, unpack=True)\n",
    "    ax.plot(x, y, lw=1, c='r', label='calculated')\n",
    "\n",
    "    # Plot background\n",
    "    x, y = np.loadtxt(back, unpack=True)\n",
    "    ax.plot(x, y, '--', c='b', lw=1, label='background')\n",
    "\n",
    "    plt.legend()\n",
    "    plt.yscale('log')\n",
    "    plt.xlim(np.min(x), np.max(x))\n",
    "    \n",
    "    plt.xlabel('2theta (degrees)')\n",
    "    plt.ylabel('Intensity')\n",
    "\n",
    "    \n",
    "    # plot labels\n",
    "    \n",
    "    addLabels(ax=ax, lax=lax, names=phaseNames, hkls=hkls, positions=peakPos, colours=colours)"
   ]
  },
  {
   "cell_type": "markdown",
   "metadata": {},
   "source": [
    "## Plot"
   ]
  },
  {
   "cell_type": "markdown",
   "metadata": {},
   "source": [
    "This plots dislocation density, <a> loop fraction, M paramater and lattice paramaters as a function of depth from sample edge"
   ]
  },
  {
   "cell_type": "code",
   "execution_count": 6,
   "metadata": {},
   "outputs": [],
   "source": [
    "data_df.to_csv('/home/rhys/Dropbox (Research Group)/Postdoc/DESY/Data_for_Andrew/Mar2022/' + name + 'data.csv')"
   ]
  },
  {
   "cell_type": "code",
   "execution_count": 179,
   "metadata": {},
   "outputs": [],
   "source": [
    "data_df = data_df.groupby(by=['depth'], as_index=False).mean()"
   ]
  },
  {
   "cell_type": "code",
   "execution_count": 8,
   "metadata": {},
   "outputs": [],
   "source": [
    "fig, axes = plt.subplots(3, 3, figsize=(16,12))\n",
    "fig.subplots_adjust(left=0.06, right=0.96, top=0.98, bottom=0.1, hspace=0.3, wspace = 0.35)\n",
    "axes = axes.ravel()\n",
    "\n",
    "param = 'Re'\n",
    "\n",
    "max_x = 40\n",
    "\n",
    "# Plot the dpa\n",
    "for sax in axes:\n",
    "    sax.set_xlabel('Depth [${\\mu}m$]', fontsize=12)\n",
    "    sec = sax.twinx()\n",
    "    sec.fill(depth, np.array(dpa), alpha=0.2)\n",
    "    sec.tick_params(axis='both', which='major', labelsize=10)\n",
    "    sec.set_xlim(0, max_x)\n",
    "    sec.set_ylim(0)\n",
    "    sec.set_ylabel('Dose [dpa]', fontsize=12)\n",
    "    \n",
    "    sax.set_zorder(sec.get_zorder()+1)\n",
    "    sax.patch.set_visible(False);\n",
    "\n",
    "# Split the lattice param axis\n",
    "lim_defs=[np.round(np.min(data_df['a_lat'])-0.002,3), np.round(np.max(data_df['a_lat'])+0.002,3), \n",
    "          np.round(np.min(data_df['c_lat'])-0.002,3), np.round(np.max(data_df['c_lat'])+0.002,3)]\n",
    "\n",
    "a_ratio = (lim_defs[1]-lim_defs[0])/((lim_defs[3]-lim_defs[2])+(lim_defs[1]-lim_defs[0]))\n",
    "\n",
    "pos_orig = axes[6].get_position() # get the original position \n",
    "axes = np.append(axes, plt.axes([pos_orig.x0, pos_orig.y0 + (pos_orig.height * (1-a_ratio)),  pos_orig.width, pos_orig.height * a_ratio] ))\n",
    "axes[9].xaxis.set_ticklabels([])\n",
    "axes[6].set_position([pos_orig.x0, pos_orig.y0,  pos_orig.width, pos_orig.height * (1-a_ratio)])\n",
    "\n",
    "# Common settings for all axes\n",
    "for sax in axes:\n",
    "    sax.set_xlim(0, max_x)\n",
    "    sax.tick_params(axis='both', which='major', labelsize=10)\n",
    "    sax.xaxis.set_ticks_position('both')\n",
    "\n",
    "#### dislocation density\n",
    "\n",
    "axes[0].errorbar(x=data_df['depth'], y=data_df['d'], yerr = [data_df['d_neg'],data_df['d_pos']],  marker='o',c='k',  ms=3, lw=0, elinewidth=1, capsize=5)\n",
    "axes[0].set_ylabel('<a> dislocation density [$10^{14} m^{-2}$]', fontsize=12)\n",
    "axes[0].set_ylim(0)\n",
    "\n",
    "d_lim = data_df['d']>0.5\n",
    "d_lim = data_df['depth']<30\n",
    "d_1_lim = data_df['d_1']>0.5\n",
    "\n",
    "if param == 'M':\n",
    "    #### m\n",
    "\n",
    "\n",
    "\n",
    "    axes[1].errorbar(x=data_df['depth'][d_lim], y=np.exp(2)*data_df['e'][d_lim], \n",
    "                     yerr = np.exp(2)*np.array([data_df['e_neg'][d_lim],data_df['e_pos'][d_lim]]), marker='o',c='k',  ms=3, lw=0, elinewidth=1, capsize=5)\n",
    "\n",
    "    axes[1].set_ylabel('$M_{<a>}$', fontsize=12)\n",
    "    axes[1].set_ylim(0)\n",
    "\n",
    "    #### m\n",
    "    axes[4].errorbar(x=data_df['depth'][d_1_lim], y=np.exp(2)*data_df['e_1'][d_1_lim], \n",
    "                     yerr = np.exp(2)*np.array([data_df['e_1_neg'][d_1_lim], data_df['e_1_pos'][d_1_lim]]), marker='o',c='k',  ms=3, lw=0, elinewidth=1, capsize=5)\n",
    "    axes[4].set_ylabel('$M_{<c>}$', fontsize=12)\n",
    "    axes[4].set_ylim(0)\n",
    "\n",
    "if param == 'Re':\n",
    "\n",
    "    axes[1].errorbar(x=data_df['depth'][d_lim], y=(100*data_df['e'][d_lim])/data_df['d'][d_lim], \n",
    "                     yerr = 100*np.array(\n",
    "                         [data_df['e_neg'][d_lim]/data_df['d_neg'][d_lim],\n",
    "                          data_df['e_pos'][d_lim]/data_df['d_pos'][d_lim]]\n",
    "                     ), marker='o',c='k',  ms=3, lw=0, elinewidth=1, capsize=5)\n",
    "\n",
    "    axes[1].set_ylabel('$Re*_{<a>}$', fontsize=12)\n",
    "    axes[1].set_ylim(0)\n",
    "\n",
    "    #### m\n",
    "    axes[4].errorbar(x=data_df['depth'][d_1_lim], y=(100*data_df['e_1'][d_1_lim])/data_df['d_1'][d_1_lim], \n",
    "                     yerr = 100*np.array(\n",
    "                         [data_df['e_1_neg'][d_1_lim]/data_df['d_1_neg'][d_1_lim],\n",
    "                          data_df['e_1_pos'][d_1_lim]/data_df['d_1_pos'][d_1_lim]]\n",
    "                     ), marker='o',c='k',  ms=3, lw=0, elinewidth=1, capsize=5)\n",
    "\n",
    "    axes[4].set_ylabel('$Re*_{<c>}$', fontsize=12)\n",
    "    axes[4].set_ylim(0)\n",
    "\n",
    "    \n",
    "    \n",
    "    \n",
    "#### dislocation density\n",
    "\n",
    "axes[3].errorbar(x=data_df['depth'], y=data_df['d_1'], yerr = [data_df['d_1_neg'],data_df['d_1_pos']],  marker='o',c='k',  ms=3, lw=0, elinewidth=1, capsize=5)\n",
    "axes[3].set_ylabel('<c> dislocation density [$10^{14} m^{-2}$]', fontsize=12)\n",
    "axes[3].set_ylim(0)\n",
    "\n",
    "#### a loop fraction\n",
    "data_df['a_frac'] = data_df['d']/(data_df['d']+data_df['d_1'])\n",
    "data_df.plot(ax=axes[2], x='depth', y='a_frac', ms=3, marker='o', c='k', lw=0,  legend=False, xlabel='Depth [${\\mu}m$]', ylabel='$f_{<a>}$', ylim=(0,1))\n",
    "\n",
    "#### c loop fraction\n",
    "data_df['c_frac'] = data_df['d_1']/(data_df['d']+data_df['d_1'])\n",
    "data_df.plot(ax=axes[5], x='depth', y='c_frac', ms=3, marker='o', c='k', lw=0,  legend=False, xlabel='Depth [${\\mu}m$]', ylabel='$f_{<c>}$', ylim=(0,1))\n",
    "\n",
    "#### c paramater\n",
    "data_df.plot(ax=axes[6], x='depth', y='c_lat', yerr='c_lat_err', ms=3, marker='o', c='k', lw=0, capsize=5, elinewidth=1, legend=False, xlabel='Depth [${\\mu}m$]', ylabel='c [Å]', ylim=(lim_defs[2], lim_defs[3]))\n",
    "axes[6].set_yticks(np.arange(lim_defs[2], lim_defs[3], 0.001)[:-1])\n",
    "\n",
    "#### a paramater\n",
    "data_df.plot(ax=axes[9], x='depth', y='a_lat', yerr='a_lat_err', ms=3, marker='o', c='k', lw=0, capsize=5, elinewidth=1, legend=False, xlabel='', ylabel='a [Å]', ylim=(lim_defs[0], lim_defs[1]))\n",
    "axes[9].set_yticks(np.arange(lim_defs[0], lim_defs[1], 0.001))\n",
    "\n",
    "#### c/a\n",
    "data_df.plot(ax=axes[7], x='depth', y='covera', yerr='covera_err', ms=3, marker='o', c='k', lw=0, capsize=5, elinewidth=1, legend=False, xlabel='Depth [${\\mu}m$]', ylabel='c/a ratio')\n",
    "\n",
    "#### cell volume\n",
    "data_df.plot(ax=axes[8], x='depth', y='covera', yerr='covera_err', ms=3, marker='o', c='k', lw=0, capsize=5, elinewidth=1, legend=False, xlabel='Depth [${\\mu}m$]', ylabel='Cell volume [$Å^3$]')\n",
    "\n",
    "plt.savefig('/home/rhys/Dropbox (Research Group)/Postdoc/DESY/Results_new/'+name+'_'+param+'_ellip1.pdf', dpi=600)\n",
    "plt.show()\n",
    "\n",
    "for ax in axes:\n",
    "    crs = mplcursors.cursor(ax,hover=False)\n",
    "\n",
    "    crs.connect(\"add\", lambda sel: sel.annotation.set_text('y={:.3f}, z={:.3f}'.format(data_df['y'][int(sel.index)], data_df['z'][int(sel.index)])))\n",
    "    crs.connect(\"add\", lambda sel: plotfig(int(sel.index)))\n",
    "    plt.show()\n",
    "    "
   ]
  },
  {
   "cell_type": "code",
   "execution_count": null,
   "metadata": {},
   "outputs": [],
   "source": []
  },
  {
   "cell_type": "code",
   "execution_count": null,
   "metadata": {},
   "outputs": [],
   "source": [
    "fig, ax = plt.subplots()\n",
    "ax.errorbar(x=data_df['depth'], y=data_df['d_2'], yerr = [data_df['d_2_neg'],data_df['d_2_pos']],  marker='o',c='k',  ms=3, lw=0, elinewidth=1, capsize=5)\n",
    "ax.set_xlabel('depth (micron)', fontsize=12)\n",
    "ax.set_ylabel('b paramater', fontsize=12)\n",
    "ax.set_ylim(0)"
   ]
  },
  {
   "cell_type": "markdown",
   "metadata": {
    "tags": []
   },
   "source": [
    "## Plot dpa vs a dd"
   ]
  },
  {
   "cell_type": "code",
   "execution_count": null,
   "metadata": {},
   "outputs": [],
   "source": [
    "plt.tight_layout()"
   ]
  },
  {
   "cell_type": "code",
   "execution_count": null,
   "metadata": {},
   "outputs": [],
   "source": [
    "plt.xscale('log')"
   ]
  },
  {
   "cell_type": "code",
   "execution_count": 130,
   "metadata": {},
   "outputs": [
    {
     "data": {
      "text/plain": [
       "<matplotlib.legend.Legend at 0x7ff250574450>"
      ]
     },
     "execution_count": 130,
     "metadata": {},
     "output_type": "execute_result"
    }
   ],
   "source": [
    "ignorefirst = 5\n",
    "ignoreafter = 25\n",
    "\n",
    "mask = (data_df['depth']>ignorefirst) & (data_df['depth']<ignoreafter)\n",
    "\n",
    "plt.errorbar(data_df['dpa'][mask], \n",
    "             data_df['d'][mask], \n",
    "             yerr=[data_df['d_neg'][mask], data_df['d_pos'][mask]],\n",
    "             ms=3, marker='o', lw=0, \n",
    "             capsize=5, elinewidth=1,\n",
    "             label=name[:3]+' dpa')\n",
    "\n",
    "plt.xlabel('Dose (DPA)')\n",
    "plt.ylabel('<a> dislocation density [$10^{14} m^{-2}$]')\n",
    "plt.legend()"
   ]
  },
  {
   "cell_type": "code",
   "execution_count": null,
   "metadata": {},
   "outputs": [],
   "source": [
    "plt.savefig('/home/rhys/Dropbox (Research Group)/Postdoc/DESY/Results_new/dpavdd_a_5_25_log.pdf', dpi=600)"
   ]
  },
  {
   "cell_type": "code",
   "execution_count": 162,
   "metadata": {},
   "outputs": [
    {
     "data": {
      "text/plain": [
       "[<matplotlib.lines.Line2D at 0x7ff249803490>]"
      ]
     },
     "execution_count": 162,
     "metadata": {},
     "output_type": "execute_result"
    }
   ],
   "source": [
    "plt.subplots(1,1,figsize=(6.5, 3.2))\n",
    "plt.plot(data_df['depth'], data_df['dpa'])"
   ]
  },
  {
   "cell_type": "code",
   "execution_count": 118,
   "metadata": {},
   "outputs": [],
   "source": [
    "ignorefirst = 5\n",
    "ignoreafter = 25\n",
    "\n",
    "mask = (data_df['depth']>ignorefirst) & (data_df['depth']<ignoreafter)\n",
    "\n",
    "\n",
    "plt.errorbar(data_df['dpa'][mask], \n",
    "             data_df['d_1'][mask], \n",
    "             yerr=[data_df['d_1_neg'][mask], data_df['d_1_pos'][mask]],\n",
    "             ms=3, marker='o', lw=0, \n",
    "             capsize=5, elinewidth=1,\n",
    "             label=name[:3]+' dpa')\n",
    "#\n",
    "plt.xlabel('Dose (DPA)')\n",
    "plt.ylabel('<c> dislocation density [$10^{14} m^{-2}$]')\n",
    "\n",
    "plt.tight_layout()"
   ]
  },
  {
   "cell_type": "code",
   "execution_count": 119,
   "metadata": {},
   "outputs": [
    {
     "data": {
      "text/plain": [
       "<matplotlib.legend.Legend at 0x7ff25070f090>"
      ]
     },
     "execution_count": 119,
     "metadata": {},
     "output_type": "execute_result"
    }
   ],
   "source": [
    "plt.errorbar(x = [0.8, 3], y = [0.38, 0.95], label = '3D-LPA', ms=10, marker='x', color='k', lw=0)\n"
   ]
  },
  {
   "cell_type": "code",
   "execution_count": 122,
   "metadata": {},
   "outputs": [
    {
     "data": {
      "text/plain": [
       "<matplotlib.legend.Legend at 0x7ff253640e10>"
      ]
     },
     "execution_count": 122,
     "metadata": {},
     "output_type": "execute_result"
    }
   ],
   "source": [
    "plt.legend(loc='lower right', ncol=2)"
   ]
  },
  {
   "cell_type": "code",
   "execution_count": 120,
   "metadata": {},
   "outputs": [],
   "source": [
    "plt.tight_layout()"
   ]
  },
  {
   "cell_type": "code",
   "execution_count": 123,
   "metadata": {},
   "outputs": [],
   "source": [
    "plt.savefig('/home/rhys/Dropbox (Research Group)/Postdoc/DESY/Results_new/dpavdd_c_5_25.pdf', dpi=600)"
   ]
  },
  {
   "cell_type": "markdown",
   "metadata": {},
   "source": [
    "## Re vs dpa"
   ]
  },
  {
   "cell_type": "code",
   "execution_count": null,
   "metadata": {},
   "outputs": [],
   "source": [
    "data_df['Re'] = 100*(data_df['e']/np.sqrt(data_df['d']))\n",
    "\n",
    "data_df['Re_neg'] = 100/np.sqrt(data_df['d']) * data_df['e_neg'] + (50*data_df['e'])/np.power(data_df['d'], 3/2) * data_df['d_neg']\n",
    "data_df['Re_pos'] = 100/np.sqrt(data_df['d']) * data_df['e_pos'] + (50*data_df['e'])/np.power(data_df['d'], 3/2) * data_df['d_pos']"
   ]
  },
  {
   "cell_type": "code",
   "execution_count": null,
   "metadata": {},
   "outputs": [],
   "source": [
    "ignorefirst = 5\n",
    "ignoreafter = 25\n",
    "\n",
    "mask = (data_df['depth']>ignorefirst) & (data_df['depth']<ignoreafter)\n",
    "\n",
    "plt.errorbar(data_df['dpa'][mask], \n",
    "             data_df['Re'][mask], \n",
    "             yerr= [data_df['Re_neg'][mask], data_df['Re_pos'][mask]],\n",
    "             ms=3, marker='o', lw=0, \n",
    "             capsize=5, elinewidth=1,\n",
    "             label=name[:3]+' dpa')\n",
    "\n",
    "plt.xlabel('Dose (DPA)')\n",
    "plt.ylabel('Re* <a>')\n",
    "plt.legend()"
   ]
  },
  {
   "cell_type": "code",
   "execution_count": null,
   "metadata": {},
   "outputs": [],
   "source": [
    "plt.savefig('/home/rhys/Dropbox (Research Group)/Postdoc/DESY/Results_new/dpa_vs_Re_a_5_25.pdf', dpi=600)"
   ]
  },
  {
   "cell_type": "code",
   "execution_count": 37,
   "metadata": {},
   "outputs": [
    {
     "data": {
      "text/plain": [
       "<matplotlib.legend.Legend at 0x7ff252db2d50>"
      ]
     },
     "execution_count": 37,
     "metadata": {},
     "output_type": "execute_result"
    }
   ],
   "source": [
    "ignorefirst = 6\n",
    "ignoreafter = 25\n",
    "\n",
    "mask = (data_df['depth']>ignorefirst) & (data_df['depth']<ignoreafter)\n",
    "\n",
    "plt.errorbar(data_df['dpa'][mask], \n",
    "             np.exp(2)*data_df['e'][mask], \n",
    "             yerr= [np.exp(2)*data_df['e_neg'][mask], np.exp(2)*data_df['e_pos'][mask]],\n",
    "             ms=3, marker='o', lw=0, \n",
    "             capsize=5, elinewidth=1,\n",
    "             label=name[:3]+' dpa')\n",
    "\n",
    "plt.xlabel('Dose (DPA)')\n",
    "plt.ylabel('<a> M paramater')\n",
    "plt.legend()"
   ]
  },
  {
   "cell_type": "code",
   "execution_count": null,
   "metadata": {},
   "outputs": [],
   "source": [
    "depth, dpa = np.loadtxt('data/srim.txt')\n",
    "\n",
    "dpa *= dpa_val\n",
    "\n",
    "plt.plot(depth,dpa)"
   ]
  },
  {
   "cell_type": "code",
   "execution_count": null,
   "metadata": {},
   "outputs": [],
   "source": [
    "line = 'Re^*_1=Rc+100.0*e/sqrt(d)=2.58114nm'\n",
    "\n",
    "if len(line.split('=')[0]) == 4:\n",
    "    print(line.split('=')[-1][:-2])\n",
    "else:\n",
    "    print(int(line.split('=')[0][5:]))"
   ]
  },
  {
   "cell_type": "code",
   "execution_count": null,
   "metadata": {},
   "outputs": [],
   "source": []
  },
  {
   "cell_type": "markdown",
   "metadata": {},
   "source": [
    "## Plot dd vs depth and M vs depth"
   ]
  },
  {
   "cell_type": "code",
   "execution_count": 131,
   "metadata": {},
   "outputs": [],
   "source": [
    "fig, axes = plt.subplots(2, 1, figsize=(7,8))\n",
    "#fig.subplots_adjust(left=0.06, right=0.96, top=0.98, bottom=0.1, hspace=0.3, wspace = 0.35)\n",
    "axes = axes.ravel()\n",
    "\n",
    "\n",
    "max_x = 40\n",
    "\n",
    "# Common settings for all axes\n",
    "for sax in axes:\n",
    "    sax.set_xlim(0, max_x)\n",
    "    sax.tick_params(axis='both', which='major', labelsize=10)\n",
    "    sax.xaxis.set_ticks_position('both')\n",
    "    sax.set_xlabel('Depth [${\\mu}m$]', fontsize=12)\n",
    "\n",
    "#### dislocation density\n",
    "\n",
    "axes[0].errorbar(x=data_df['depth'], y=data_df['d'], yerr = [data_df['d_neg'],data_df['d_pos']],  marker='o',c='k',  ms=3, lw=0, elinewidth=1, capsize=5, label = str(dpa_val) + ' dpa')\n",
    "axes[0].set_ylabel('<a> dislocation density [$10^{14} m^{-2}$]', fontsize=12)\n",
    "axes[0].set_ylim(0)\n",
    "axes[0].legend()\n",
    "\n",
    "#### m\n",
    "\n",
    "d_lim = data_df['d']>0.5\n",
    "d_lim = data_df['depth']<30\n",
    "d_1_lim = data_df['d_1']>0.5\n",
    "\n",
    "axes[1].errorbar(x=data_df['depth'][d_lim], y=np.exp(2)*data_df['e'][d_lim], \n",
    "                 yerr = np.exp(2)*np.array([data_df['e_neg'][d_lim],data_df['e_pos'][d_lim]]), marker='o',c='k',  ms=3, lw=0, elinewidth=1, capsize=5, label = str(dpa_val) + ' dpa')\n",
    "\n",
    "axes[1].set_ylabel('$M_{<a>}$', fontsize=12)\n",
    "axes[1].set_ylim(0)\n",
    "axes[1].legend()\n",
    "\n",
    "## plt.savefig('/home/rhys/Dropbox (Research Group)/Postdoc/DESY/Results_new/'+name+'_ellip1.pdf', dpi=600)\n",
    "plt.show()\n",
    "\n",
    "for ax in axes:\n",
    "    crs = mplcursors.cursor(ax,hover=False)\n",
    "\n",
    "    crs.connect(\"add\", lambda sel: sel.annotation.set_text('y={:.3f}, z={:.3f}'.format(data_df['y'][int(sel.index)], data_df['z'][int(sel.index)])))\n",
    "    crs.connect(\"add\", lambda sel: plotfig(int(sel.index)))\n",
    "    plt.show()\n",
    "    "
   ]
  },
  {
   "cell_type": "code",
   "execution_count": 166,
   "metadata": {},
   "outputs": [],
   "source": [
    "fig, axes = plt.subplots(2, 2, figsize=(13, 6.4))\n",
    "#fig.subplots_adjust(left=0.06, right=0.96, top=0.98, bottom=0.1, hspace=0.3, wspace = 0.35)\n",
    "axes = axes.ravel()\n",
    "max_x = 40"
   ]
  },
  {
   "cell_type": "code",
   "execution_count": 180,
   "metadata": {},
   "outputs": [],
   "source": [
    "# Common settings for all axes\n",
    "for sax in axes:\n",
    "    sax.set_xlim(0, max_x)\n",
    "    sax.tick_params(axis='both', which='major', labelsize=10)\n",
    "    sax.xaxis.set_ticks_position('both')\n",
    "    sax.set_xlabel('Depth [${\\mu}m$]', fontsize=12)\n",
    "\n",
    "#### dislocation density\n",
    "\n",
    "axes[0].plot(data_df['depth'], data_df['d'], '-', lw=1, label = str(dpa_val) + ' dpa')\n",
    "axes[0].set_ylabel('<a> dislocation density [$10^{14} m^{-2}$]', fontsize=12)\n",
    "axes[0].set_ylim(0)\n",
    "axes[0].legend()\n",
    "\n",
    "#### m\n",
    "\n",
    "d_lim = data_df['d']>0.5\n",
    "d_lim = data_df['depth']<30\n",
    "d_1_lim = data_df['d_1']>0.5\n",
    "\n",
    "axes[1].plot(data_df['depth'][d_lim], np.exp(2)*data_df['e'][d_lim], '-', lw=1, label = str(dpa_val) + ' dpa')\n",
    "\n",
    "axes[1].set_ylabel('$M_{<a>}$', fontsize=12)\n",
    "axes[1].set_ylim(0)\n",
    "axes[1].legend()\n",
    "\n",
    "#### m\n",
    "\n",
    "d_lim = data_df['d']>0.5\n",
    "d_lim = data_df['depth']<30\n",
    "d_1_lim = data_df['d_1']>0.5\n",
    "\n",
    "axes[2].plot(data_df['depth'][d_lim], np.exp(2)*data_df['e_1'][d_lim], '-', lw=1, label = str(dpa_val) + ' dpa')\n",
    "\n",
    "axes[2].set_ylabel('$M_{<c>}$', fontsize=12)\n",
    "axes[2].set_ylim(0)\n",
    "axes[2].legend()\n",
    "\n",
    "#### dislocation density\n",
    "\n",
    "axes[3].plot(data_df['depth'], data_df['d_1'], '-', lw=1, label = str(dpa_val) + ' dpa')\n",
    "axes[3].set_ylabel('<c> dislocation density [$10^{14} m^{-2}$]', fontsize=12)\n",
    "axes[3].set_ylim(0)\n",
    "axes[3].legend()\n",
    "\n",
    "plt.show()\n",
    "\n",
    "for ax in axes:\n",
    "    crs = mplcursors.cursor(ax,hover=False)\n",
    "\n",
    "    crs.connect(\"add\", lambda sel: sel.annotation.set_text('y={:.3f}, z={:.3f}'.format(data_df['y'][int(sel.index)], data_df['z'][int(sel.index)])))\n",
    "    crs.connect(\"add\", lambda sel: plotfig(int(sel.index)))\n",
    "    plt.show()\n",
    "    "
   ]
  },
  {
   "cell_type": "code",
   "execution_count": 188,
   "metadata": {},
   "outputs": [],
   "source": [
    "plt.savefig('/home/rhys/Dropbox (Research Group)/Postdoc/DESY/Results_new/alldpa.pdf', dpi=600)"
   ]
  },
  {
   "cell_type": "code",
   "execution_count": 187,
   "metadata": {},
   "outputs": [
    {
     "data": {
      "text/plain": [
       "(0.0, 350.0)"
      ]
     },
     "execution_count": 187,
     "metadata": {},
     "output_type": "execute_result"
    }
   ],
   "source": [
    "axes[2].set_ylim(0, 350)"
   ]
  },
  {
   "cell_type": "code",
   "execution_count": 168,
   "metadata": {},
   "outputs": [],
   "source": [
    "plt.tight_layout()"
   ]
  },
  {
   "cell_type": "code",
   "execution_count": null,
   "metadata": {},
   "outputs": [],
   "source": []
  }
 ],
 "metadata": {
  "kernelspec": {
   "display_name": "Python 3",
   "language": "python",
   "name": "python3"
  },
  "language_info": {
   "codemirror_mode": {
    "name": "ipython",
    "version": 3
   },
   "file_extension": ".py",
   "mimetype": "text/x-python",
   "name": "python",
   "nbconvert_exporter": "python",
   "pygments_lexer": "ipython3",
   "version": "3.7.10"
  },
  "toc-autonumbering": true,
  "toc-showcode": false,
  "toc-showmarkdowntxt": true,
  "toc-showtags": false
 },
 "nbformat": 4,
 "nbformat_minor": 4
}
