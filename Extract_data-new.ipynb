{
 "cells": [
  {
   "cell_type": "markdown",
   "metadata": {},
   "source": [
    "# Extract data from .sol files"
   ]
  },
  {
   "cell_type": "markdown",
   "metadata": {},
   "source": [
    "Use this if you are using the Wilkens function mode 2 to extract <a> loop (phase 0) and <c> loop (phase 1)densities"
   ]
  },
  {
   "cell_type": "markdown",
   "metadata": {},
   "source": [
    "This workbook is an example of how the extractDataDir function can be used to extract physical paramaters from a folder a .sol files. "
   ]
  },
  {
   "cell_type": "markdown",
   "metadata": {},
   "source": [
    "This data frame is then manipulated for plotting data from a synchrotron experiment as an example."
   ]
  },
  {
   "cell_type": "markdown",
   "metadata": {},
   "source": [
    "## Import stuff"
   ]
  },
  {
   "cell_type": "code",
   "execution_count": null,
   "metadata": {},
   "outputs": [],
   "source": [
    "import pandas as pd\n",
    "from src.cmwp_tools import extractDataDir\n",
    "import matplotlib.pyplot as plt\n",
    "import mplcursors\n",
    "%matplotlib qt5"
   ]
  },
  {
   "cell_type": "markdown",
   "metadata": {},
   "source": [
    "## Extract data from solution files"
   ]
  },
  {
   "cell_type": "markdown",
   "metadata": {},
   "source": [
    "This code extracts data from CMWP .sol files"
   ]
  },
  {
   "cell_type": "code",
   "execution_count": null,
   "metadata": {},
   "outputs": [],
   "source": [
    "data_df = extractDataDir('/home/rhys/Documents/CMWP-211102/2020_11_DESY/hyd/*.sol', calcLoop=False, wavelength=0.018505104)\n",
    "unique = [20.695, 21.195, 21.695]\n",
    "edges = [14.918, 14.918, 14.919]\n",
    "dpa_val = 0.1"
   ]
  },
  {
   "cell_type": "code",
   "execution_count": null,
   "metadata": {},
   "outputs": [],
   "source": [
    "data_df = extractDataDir('/home/rhys/Documents/CMWP-211102/2020_11_DESY/dpa2/*.sol', calcLoop=False, wavelength=0.018505104)\n",
    "unique = [9.245, 9.745, 10.245, 10.745, 11.245]\n",
    "edges = [14.838, 14.836, 14.834, 14.832, 14.830]\n",
    "dpa_val = 2"
   ]
  },
  {
   "cell_type": "code",
   "execution_count": null,
   "metadata": {},
   "outputs": [],
   "source": [
    "data_df = extractDataDir('/home/rhys/Documents/CMWP-211102/2020_11_DESY/dpa05/*.sol', calcLoop=False, wavelength=0.018505104)\n",
    "unique = [-5.5, -5, -4.5, -4, -3.5]\n",
    "edges = [14.780, 14.782, 14.782, 14.782, 14.782]\n",
    "dpa_val = 0.5"
   ]
  },
  {
   "cell_type": "markdown",
   "metadata": {},
   "source": [
    "## Pull out z and y values from filename"
   ]
  },
  {
   "cell_type": "code",
   "execution_count": null,
   "metadata": {},
   "outputs": [],
   "source": [
    "data_df[['f2', 'y', 'f4', 'zs']] = data_df['filename'].str.split('_',expand=True)               # Split by '_'\n",
    "data_df[['z', 'no']] = data_df['zs'].str.split('.s',expand=True)                                # Split by '.s'\n",
    "data_df.drop(['f2', 'filename', 'f4', 'zs', 'no'], axis=1, inplace=True)                        # Clear un-needed columns\n",
    "data_df['y'] = pd.to_numeric(data_df['y'], downcast=\"float\")\n",
    "data_df['z'] = pd.to_numeric(data_df['z'], downcast=\"float\")\n",
    "\n",
    "# Rearrange to put y and z first\n",
    "cols = data_df.columns.tolist()\n",
    "data_df=data_df[cols[-2:] + cols[:-2]]"
   ]
  },
  {
   "cell_type": "markdown",
   "metadata": {},
   "source": [
    "## Calculate depth from edge"
   ]
  },
  {
   "cell_type": "markdown",
   "metadata": {},
   "source": [
    "This takes a list of all y positions (calculated from the data list above) \n",
    "and a list of the corresponsing z positions at the edge of the sample, \n",
    "to make a new column called 'depth', which is the distance of the pattern away from the sample edge in microns"
   ]
  },
  {
   "cell_type": "code",
   "execution_count": null,
   "metadata": {},
   "outputs": [],
   "source": [
    "# These are the unique y positions\n",
    "print(data_df['y'].unique())"
   ]
  },
  {
   "cell_type": "code",
   "execution_count": null,
   "metadata": {},
   "outputs": [],
   "source": [
    "data_df.insert(0, 'depth', data_df['y'])\n",
    "data_df['depth'].replace(to_replace=unique, value=edges, inplace=True)\n",
    "data_df['depth'] = data_df['z'] - data_df['depth']\n",
    "data_df['depth'] = np.round(data_df['depth'] * 1000,1)"
   ]
  },
  {
   "cell_type": "code",
   "execution_count": null,
   "metadata": {
    "scrolled": true
   },
   "outputs": [],
   "source": [
    "data_df"
   ]
  },
  {
   "cell_type": "markdown",
   "metadata": {},
   "source": [
    "## Plot"
   ]
  },
  {
   "cell_type": "markdown",
   "metadata": {},
   "source": [
    "This plots dislocation density, <a> loop fraction, M paramater and lattice paramaters as a function of depth from sample edge"
   ]
  },
  {
   "cell_type": "code",
   "execution_count": null,
   "metadata": {},
   "outputs": [],
   "source": [
    "depth, dpa = np.loadtxt('data/srim.txt')\n",
    "\n",
    "dpa *= dpa_val\n",
    "\n",
    "fig, axes = plt.subplots(3, 3, figsize=(16,12))\n",
    "fig.subplots_adjust(left=0.06, right=0.96, top=0.98, bottom=0.1, hspace=0.3, wspace = 0.35)\n",
    "axes = axes.ravel()\n",
    "\n",
    "max_x = 40\n",
    "\n",
    "# Plot the dpa\n",
    "for sax in axes:\n",
    "    sax.set_xlabel('Depth [${\\mu}m$]', fontsize=12)\n",
    "    sec = sax.twinx()\n",
    "    sec.fill(depth, np.array(dpa), alpha=0.2)\n",
    "    sec.tick_params(axis='both', which='major', labelsize=10)\n",
    "    sec.set_xlim(0, max_x)\n",
    "    sec.set_ylim(0)\n",
    "    sec.set_ylabel('Dose [dpa]', fontsize=12)\n",
    "    \n",
    "    sax.set_zorder(sec.get_zorder()+1)\n",
    "    sax.patch.set_visible(False);\n",
    "\n",
    "# Split the lattice param axis\n",
    "lim_defs=[np.round(np.min(data_df['a_lat'])-0.002,3), np.round(np.max(data_df['a_lat'])+0.002,3), \n",
    "          np.round(np.min(data_df['c_lat'])-0.002,3), np.round(np.max(data_df['c_lat'])+0.002,3)]\n",
    "\n",
    "a_ratio = (lim_defs[1]-lim_defs[0])/((lim_defs[3]-lim_defs[2])+(lim_defs[1]-lim_defs[0]))\n",
    "\n",
    "pos_orig = axes[6].get_position() # get the original position \n",
    "axes = np.append(axes, plt.axes([pos_orig.x0, pos_orig.y0 + (pos_orig.height * (1-a_ratio)),  pos_orig.width, pos_orig.height * a_ratio] ))\n",
    "axes[9].xaxis.set_ticklabels([])\n",
    "axes[6].set_position([pos_orig.x0, pos_orig.y0,  pos_orig.width, pos_orig.height * (1-a_ratio)])\n",
    "\n",
    "# Common settings for all axes\n",
    "for sax in axes:\n",
    "    sax.set_xlim(0, max_x)\n",
    "    sax.tick_params(axis='both', which='major', labelsize=10)\n",
    "    sax.xaxis.set_ticks_position('both')\n",
    "\n",
    "#### dislocation density\n",
    "\n",
    "axes[0].errorbar(x=data_df['depth'], y=data_df['d'], yerr = [data_df['d_neg'],data_df['d_pos']],  marker='o',c='k',  ms=3, lw=0, elinewidth=1, capsize=5)\n",
    "axes[0].set_ylabel('<a> dislocation density [$10^{14} m^{-2}$]', fontsize=12)\n",
    "axes[0].set_ylim(0)\n",
    "\n",
    "#### m\n",
    "\n",
    "d_lim = 0.6\n",
    "\n",
    "axes[1].errorbar(x=data_df['depth'][data_df['d']>d_lim], y=np.exp(2)*data_df['e'][data_df['d']>d_lim], \n",
    "                 yerr = np.exp(2)*np.array([data_df['e_neg'][data_df['d']>d_lim],data_df['e_pos'][data_df['d']>d_lim]]), marker='o',c='k',  ms=3, lw=0, elinewidth=1, capsize=5)\n",
    "axes[1].set_ylabel('$M_{<a>}$', fontsize=12)\n",
    "axes[1].set_ylim(0)\n",
    "\n",
    "#### dislocation density\n",
    "\n",
    "axes[3].errorbar(x=data_df['depth'], y=data_df['d_1'], yerr = [data_df['d_1_neg'],data_df['d_1_pos']],  marker='o',c='k',  ms=3, lw=0, elinewidth=1, capsize=5)\n",
    "axes[3].set_ylabel('<c> dislocation density [$10^{14} m^{-2}$]', fontsize=12)\n",
    "axes[3].set_ylim(0)\n",
    "\n",
    "#### m\n",
    "\n",
    "axes[4].errorbar(x=data_df['depth'][data_df['d_1']>d_lim], y=np.exp(2)*data_df['e_1'][data_df['d_1']>d_lim], \n",
    "                 yerr = np.exp(2)*np.array([data_df['e_1_neg'][data_df['d_1']>d_lim],data_df['e_1_pos'][data_df['d_1']>d_lim]]), marker='o',c='k',  ms=3, lw=0, elinewidth=1, capsize=5)\n",
    "axes[4].set_ylabel('$M_{<c>}$', fontsize=12)\n",
    "axes[4].set_ylim(0)\n",
    "\n",
    "#### a loop fraction\n",
    "\n",
    "axes[2].errorbar(x=data_df['depth'], y=data_df['d']/(data_df['d']+data_df['d_1']), \n",
    "                 marker='o',c='k',  ms=3, lw=0, elinewidth=1, capsize=5)\n",
    "axes[2].set_ylabel('$f_{<a>}$', fontsize=12)\n",
    "axes[2].set_ylim(0, 1)\n",
    "\n",
    "#### c loop fraction\n",
    "\n",
    "axes[5].errorbar(x=data_df['depth'], y=data_df['d_1']/(data_df['d']+data_df['d_1']), \n",
    "                 marker='o',c='k',  ms=3, lw=0, elinewidth=1, capsize=5)\n",
    "axes[5].set_ylabel('$f_{<c>}$', fontsize=12)\n",
    "axes[5].set_ylim(0, 1)\n",
    "\n",
    "#### c paramater\n",
    "\n",
    "axes[6].errorbar(x=data_df['depth'], y=data_df['c_lat'], yerr=data_df['c_err'], marker='o', c='k', ms=3, lw=0, elinewidth=1, capsize=5)\n",
    "axes[6].set_ylabel('c [Å]', fontsize=12)\n",
    "axes[6].set_ylim(lim_defs[2], lim_defs[3])\n",
    "axes[6].set_yticks(np.arange(lim_defs[2], lim_defs[3], 0.001)[:-1])\n",
    "\n",
    "#### a paramater\n",
    "\n",
    "axes[9].errorbar(x=data_df['depth'], y=data_df['a_lat'], yerr=data_df['a_err'], marker='o',c='k',  ms=3, lw=0, elinewidth=1, capsize=5)\n",
    "axes[9].set_ylabel('a [Å]', fontsize=12)\n",
    "axes[9].set_ylim(lim_defs[0], lim_defs[1])\n",
    "axes[9].set_yticks(np.arange(lim_defs[0], lim_defs[1], 0.001))\n",
    "\n",
    "#### c/a\n",
    "\n",
    "axes[7].errorbar(x=data_df['depth'], y=data_df['covera'], yerr=data_df['covera_err'], marker='o',c='k',  ms=3, lw=0, elinewidth=1, capsize=5)\n",
    "axes[7].set_ylabel('c/a', fontsize=12)\n",
    "\n",
    "#### cell volume\n",
    "\n",
    "axes[8].errorbar(x=data_df['depth'], y=data_df['cellvol'], yerr=data_df['cellvol_err'], c='k', marker='o', ms=3, lw=0, elinewidth=1, capsize=5)\n",
    "axes[8].set_ylabel('Cell volume [$Å^3$]', fontsize=12);\n",
    "\n",
    "#plt.savefig('/home/rhys/Dropbox (Research Group)/Postdoc/DESY/'+name+'_ellip'+str(ellip)+'.pdf', dpi=600)\n",
    "#plt.show()\n",
    "\n",
    "for ax in axes:\n",
    "    crs = mplcursors.cursor(ax,hover=False)\n",
    "\n",
    "    crs.connect(\"add\", lambda sel: sel.annotation.set_text(\n",
    "        'y={:.3f}, z={:.3f}'.format(data_df['y'][int(sel.index)], data_df['z'][int(sel.index)])))\n",
    "    plt.show()"
   ]
  },
  {
   "cell_type": "code",
   "execution_count": null,
   "metadata": {},
   "outputs": [],
   "source": []
  },
  {
   "cell_type": "code",
   "execution_count": null,
   "metadata": {},
   "outputs": [],
   "source": []
  }
 ],
 "metadata": {
  "kernelspec": {
   "display_name": "Python 3",
   "language": "python",
   "name": "python3"
  },
  "language_info": {
   "codemirror_mode": {
    "name": "ipython",
    "version": 3
   },
   "file_extension": ".py",
   "mimetype": "text/x-python",
   "name": "python",
   "nbconvert_exporter": "python",
   "pygments_lexer": "ipython3",
   "version": "3.7.10"
  },
  "toc-autonumbering": true,
  "toc-showcode": false,
  "toc-showmarkdowntxt": true,
  "toc-showtags": false
 },
 "nbformat": 4,
 "nbformat_minor": 4
}
