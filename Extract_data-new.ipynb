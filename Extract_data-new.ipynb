{
 "cells": [
  {
   "cell_type": "markdown",
   "metadata": {},
   "source": [
    "# Extract data from .sol files"
   ]
  },
  {
   "cell_type": "markdown",
   "metadata": {},
   "source": [
    "Use this if you are using the Wilkens function mode 2 to extract <a> loop (phase 0) and <c> loop (phase 1)densities"
   ]
  },
  {
   "cell_type": "markdown",
   "metadata": {
    "tags": []
   },
   "source": [
    "This workbook is an example of how the extractDataDir function can be used to extract physical paramaters from a folder a .sol files. "
   ]
  },
  {
   "cell_type": "markdown",
   "metadata": {},
   "source": [
    "This data frame is then manipulated for plotting data from a synchrotron experiment as an example."
   ]
  },
  {
   "cell_type": "markdown",
   "metadata": {},
   "source": [
    "## Import stuff"
   ]
  },
  {
   "cell_type": "code",
   "execution_count": 202,
   "metadata": {},
   "outputs": [],
   "source": [
    "import pandas as pd\n",
    "import matplotlib.pyplot as plt\n",
    "import mplcursors\n",
    "%matplotlib qt5\n",
    "\n",
    "from src.cmwp_tools import extractDataDir\n",
    "from src.xrd_tools import addLabels"
   ]
  },
  {
   "cell_type": "markdown",
   "metadata": {},
   "source": [
    "## Extract data from solution files"
   ]
  },
  {
   "cell_type": "markdown",
   "metadata": {},
   "source": [
    "This code extracts data from CMWP .sol files"
   ]
  },
  {
   "cell_type": "code",
   "execution_count": 203,
   "metadata": {},
   "outputs": [
    {
     "name": "stdout",
     "output_type": "stream",
     "text": [
      "Parsing 104 solution files...\n",
      "Parsed 103 solution files succesfully                                                                \n",
      "\"*** END\" not present in 1                                                                     \n",
      "Done!\n"
     ]
    }
   ],
   "source": [
    "directory = '/home/rhys/Documents/CMWP-211102/2020_11_DESY/hyd/'\n",
    "data_df = extractDataDir(directory+'*.sol', calcLoop=False, wavelength=0.018505104)\n",
    "unique = [20.695, 21.195, 21.695]\n",
    "edges = [14.918, 14.918, 14.919]\n",
    "dpa_val = 0.1\n",
    "name='0.1_'"
   ]
  },
  {
   "cell_type": "code",
   "execution_count": 158,
   "metadata": {},
   "outputs": [
    {
     "name": "stdout",
     "output_type": "stream",
     "text": [
      "Parsing 117 solution files...\n",
      "Parsed 117 solution files succesfully                                                                  \n",
      "Done!\n"
     ]
    }
   ],
   "source": [
    "directory = '/home/rhys/Documents/CMWP-211102/2020_11_DESY/hyd_3p/'\n",
    "data_df = extractDataDir(directory+'*.sol', calcLoop=False, wavelength=0.018505104)\n",
    "unique = [20.695, 21.195, 21.695]\n",
    "edges = [14.918, 14.918, 14.919]\n",
    "dpa_val = 0.1\n",
    "name='0.1_3p'"
   ]
  },
  {
   "cell_type": "code",
   "execution_count": null,
   "metadata": {},
   "outputs": [],
   "source": [
    "directory = '/home/rhys/Documents/CMWP-211102/2020_11_DESY/hyd_3p_80_100/'\n",
    "data_df = extractDataDir(directory+'*.sol', calcLoop=False, wavelength=0.018505104)\n",
    "unique = [20.695, 21.195, 21.695]\n",
    "edges = [14.918, 14.918, 14.919]\n",
    "dpa_val = 0.1\n",
    "name='0.1_3p_hor'"
   ]
  },
  {
   "cell_type": "code",
   "execution_count": 177,
   "metadata": {},
   "outputs": [
    {
     "name": "stdout",
     "output_type": "stream",
     "text": [
      "Parsing 88 solution files...\n",
      "Parsed 84 solution files succesfully                                                                 \n",
      "\"*** END\" not present in 4                                                                     \n",
      "Done!\n"
     ]
    }
   ],
   "source": [
    "directory = '/home/rhys/Documents/CMWP-211102/2020_11_DESY/dpa2/'\n",
    "data_df = extractDataDir(directory+'*.sol', calcLoop=False, wavelength=0.018505104)\n",
    "unique = [9.245, 9.745, 10.245, 10.745, 11.245]\n",
    "edges = [14.839, 14.838, 14.835, 14.834, 14.832]\n",
    "dpa_val = 2\n",
    "name='2.0_'"
   ]
  },
  {
   "cell_type": "code",
   "execution_count": 169,
   "metadata": {},
   "outputs": [
    {
     "name": "stdout",
     "output_type": "stream",
     "text": [
      "Parsing 110 solution files...\n",
      "Parsed 109 solution files succesfully                                                                 \n",
      "\"*** END\" not present in 1                                                                     \n",
      "Done!\n"
     ]
    }
   ],
   "source": [
    "directory = '/home/rhys/Documents/CMWP-211102/2020_11_DESY/dpa05/'\n",
    "data_df = extractDataDir(directory+'*.sol', calcLoop=False, wavelength=0.018505104)\n",
    "#print(data_df['y'].unique())\n",
    "unique = [-5.5, -5, -4.5, -4, -3.5]\n",
    "edges = [14.780, 14.782, 14.782, 14.782, 14.782]\n",
    "dpa_val = 0.5\n",
    "name='0.5_'"
   ]
  },
  {
   "cell_type": "code",
   "execution_count": 173,
   "metadata": {},
   "outputs": [
    {
     "name": "stdout",
     "output_type": "stream",
     "text": [
      "Parsing 78 solution files...\n",
      "Parsed 76 solution files succesfully                                                                \n",
      "\"*** END\" not present in 2                                                                     \n",
      "Done!\n"
     ]
    }
   ],
   "source": [
    "directory = '/home/rhys/Documents/CMWP-211102/2020_11_DESY/dpa1/'\n",
    "data_df = extractDataDir(directory+'*.sol', calcLoop=False, wavelength=0.018505104)\n",
    "unique = [3.249, 3.749, 4.249]\n",
    "edges = [14.820, 14.816, 14.812]\n",
    "edges = [14.820, 14.818, 14.814]\n",
    "dpa_val = 1\n",
    "name='1.0_'"
   ]
  },
  {
   "cell_type": "markdown",
   "metadata": {},
   "source": [
    "## Pull out z and y values from filename, calculate depth from edge and add dpa"
   ]
  },
  {
   "cell_type": "code",
   "execution_count": 204,
   "metadata": {},
   "outputs": [],
   "source": [
    "# Get rid of un-needed columns\n",
    "data_df[['f2', 'y', 'f4', 'z']] = data_df['filename'].str.split('_',expand=True)               # Split by '_'\n",
    "data_df.drop(['f2', 'f4'], axis=1, inplace=True)                        # Clear un-needed columns\n",
    "\n",
    "# Format y and z as float\n",
    "data_df['y'] = pd.to_numeric(data_df['y'], downcast=\"float\")\n",
    "data_df['z'] = pd.to_numeric(data_df['z'], downcast=\"float\")\n",
    "\n",
    "# Rearrange to put y and z first\n",
    "cols = data_df.columns.tolist()\n",
    "data_df=data_df[cols[-2:] + cols[:-2]]\n",
    "\n",
    "# Calculate depth\n",
    "data_df.insert(0, 'depth', data_df['y'])\n",
    "data_df['depth'].replace(to_replace=unique, value=edges, inplace=True)\n",
    "data_df['depth'] = data_df['z'] - data_df['depth']\n",
    "data_df['depth'] = np.round(data_df['depth'] * 1000,1)\n",
    "\n",
    "# Add dpa column\n",
    "depth, dpa = np.loadtxt('data/srim.txt')\n",
    "dpa *= dpa_val\n",
    "depth_int = list(depth)+list((depth[0:-1]+depth[1:])/2)\n",
    "dpa_int = list(dpa)+list((dpa[0:-1]+dpa[1:])/2)\n",
    "index = np.argsort(depth_int)\n",
    "depth_int = np.array(depth_int)[index]\n",
    "dpa_int = np.array(dpa_int)[index]\n",
    "data_df['dpa'] = [dpa_int[np.argmin(np.abs(i-depth_int))] for i in data_df['depth']]\n",
    "\n",
    "phases = np.array(data_df['peak_phase'][3])\n",
    "poss = np.array(data_df['peak_pos'][3])\n",
    "names = np.array(data_df['peak_names'][3])\n",
    "\n",
    "phaseNames = ['Zr', 'SPP', 'ZrH']\n",
    "hkls = [names[phases==0], names[phases==2], names[phases==3]]\n",
    "peakPos = [poss[phases==0], poss[phases==2], poss[phases==3]]\n",
    "colours = ['b', 'r', 'g']"
   ]
  },
  {
   "cell_type": "code",
   "execution_count": 205,
   "metadata": {
    "scrolled": true
   },
   "outputs": [
    {
     "data": {
      "text/html": [
       "<div>\n",
       "<style scoped>\n",
       "    .dataframe tbody tr th:only-of-type {\n",
       "        vertical-align: middle;\n",
       "    }\n",
       "\n",
       "    .dataframe tbody tr th {\n",
       "        vertical-align: top;\n",
       "    }\n",
       "\n",
       "    .dataframe thead th {\n",
       "        text-align: right;\n",
       "    }\n",
       "</style>\n",
       "<table border=\"1\" class=\"dataframe\">\n",
       "  <thead>\n",
       "    <tr style=\"text-align: right;\">\n",
       "      <th></th>\n",
       "      <th>depth</th>\n",
       "      <th>y</th>\n",
       "      <th>z</th>\n",
       "      <th>a1</th>\n",
       "      <th>a1_1</th>\n",
       "      <th>a2</th>\n",
       "      <th>a2_1</th>\n",
       "      <th>a_lat</th>\n",
       "      <th>a_lat_err</th>\n",
       "      <th>b</th>\n",
       "      <th>...</th>\n",
       "      <th>e_neg</th>\n",
       "      <th>e_pos</th>\n",
       "      <th>filename</th>\n",
       "      <th>peak_int</th>\n",
       "      <th>peak_names</th>\n",
       "      <th>peak_phase</th>\n",
       "      <th>peak_pos</th>\n",
       "      <th>rhoIGS</th>\n",
       "      <th>wssr</th>\n",
       "      <th>dpa</th>\n",
       "    </tr>\n",
       "  </thead>\n",
       "  <tbody>\n",
       "    <tr>\n",
       "      <th>0</th>\n",
       "      <td>1.0</td>\n",
       "      <td>20.695</td>\n",
       "      <td>14.919</td>\n",
       "      <td>-0.5332</td>\n",
       "      <td>2.6411</td>\n",
       "      <td>-0.307</td>\n",
       "      <td>1.0058</td>\n",
       "      <td>3.237281</td>\n",
       "      <td>0.000195</td>\n",
       "      <td>364.943</td>\n",
       "      <td>...</td>\n",
       "      <td>0.035055</td>\n",
       "      <td>0.060198</td>\n",
       "      <td>y_20.695_z_14.919</td>\n",
       "      <td>[453.834, 0.0, 3114.93, 0.0, 1801.75, 0.0, 470...</td>\n",
       "      <td>[100, 100, 002, 002, 101, 101, 102, 102, 110, ...</td>\n",
       "      <td>[0, 1, 0, 1, 0, 1, 0, 1, 0, 1, 0, 1, 0, 1, 0, ...</td>\n",
       "      <td>[3.77944, 0.0, 4.10608, 0.0, 4.30165, 0.0, 5.5...</td>\n",
       "      <td>0.0</td>\n",
       "      <td>273.607</td>\n",
       "      <td>0.0577</td>\n",
       "    </tr>\n",
       "    <tr>\n",
       "      <th>1</th>\n",
       "      <td>3.0</td>\n",
       "      <td>20.695</td>\n",
       "      <td>14.921</td>\n",
       "      <td>-0.5332</td>\n",
       "      <td>2.6411</td>\n",
       "      <td>-0.307</td>\n",
       "      <td>1.0058</td>\n",
       "      <td>3.238030</td>\n",
       "      <td>0.000173</td>\n",
       "      <td>235.263</td>\n",
       "      <td>...</td>\n",
       "      <td>0.121793</td>\n",
       "      <td>0.164761</td>\n",
       "      <td>y_20.695_z_14.921</td>\n",
       "      <td>[613.416, 0.0, 3615.17, 0.0, 2189.24, 0.0, 658...</td>\n",
       "      <td>[100, 100, 002, 002, 101, 101, 102, 102, 110, ...</td>\n",
       "      <td>[0, 1, 0, 1, 0, 1, 0, 1, 0, 1, 0, 1, 0, 1, 0, ...</td>\n",
       "      <td>[3.77864, 0.0, 4.10613, 0.0, 4.3007, 0.0, 5.58...</td>\n",
       "      <td>0.0</td>\n",
       "      <td>555.002</td>\n",
       "      <td>0.0626</td>\n",
       "    </tr>\n",
       "    <tr>\n",
       "      <th>2</th>\n",
       "      <td>5.0</td>\n",
       "      <td>20.695</td>\n",
       "      <td>14.923</td>\n",
       "      <td>-0.5332</td>\n",
       "      <td>2.6411</td>\n",
       "      <td>-0.307</td>\n",
       "      <td>1.0058</td>\n",
       "      <td>3.237833</td>\n",
       "      <td>0.000165</td>\n",
       "      <td>252.502</td>\n",
       "      <td>...</td>\n",
       "      <td>0.058155</td>\n",
       "      <td>0.060684</td>\n",
       "      <td>y_20.695_z_14.923</td>\n",
       "      <td>[601.963, 0.0, 3342.96, 0.0, 2015.57, 0.0, 621...</td>\n",
       "      <td>[100, 100, 002, 002, 101, 101, 102, 102, 110, ...</td>\n",
       "      <td>[0, 1, 0, 1, 0, 1, 0, 1, 0, 1, 0, 1, 0, 1, 0, ...</td>\n",
       "      <td>[3.77894, 0.0, 4.10595, 0.0, 4.3006, 0.0, 5.58...</td>\n",
       "      <td>0.0</td>\n",
       "      <td>500.633</td>\n",
       "      <td>0.0694</td>\n",
       "    </tr>\n",
       "    <tr>\n",
       "      <th>3</th>\n",
       "      <td>7.0</td>\n",
       "      <td>20.695</td>\n",
       "      <td>14.925</td>\n",
       "      <td>-0.5332</td>\n",
       "      <td>2.6411</td>\n",
       "      <td>-0.307</td>\n",
       "      <td>1.0058</td>\n",
       "      <td>3.237687</td>\n",
       "      <td>0.000163</td>\n",
       "      <td>336.733</td>\n",
       "      <td>...</td>\n",
       "      <td>0.044942</td>\n",
       "      <td>0.058031</td>\n",
       "      <td>y_20.695_z_14.925</td>\n",
       "      <td>[722.936, 0.0, 3276.79, 0.0, 1902.53, 0.0, 657...</td>\n",
       "      <td>[100, 100, 002, 002, 101, 101, 102, 102, 110, ...</td>\n",
       "      <td>[0, 1, 0, 1, 0, 1, 0, 1, 0, 1, 0, 1, 0, 1, 0, ...</td>\n",
       "      <td>[3.77941, 0.0, 4.10579, 0.0, 4.30077, 0.0, 5.5...</td>\n",
       "      <td>0.0</td>\n",
       "      <td>427.219</td>\n",
       "      <td>0.0703</td>\n",
       "    </tr>\n",
       "    <tr>\n",
       "      <th>4</th>\n",
       "      <td>9.0</td>\n",
       "      <td>20.695</td>\n",
       "      <td>14.927</td>\n",
       "      <td>-0.5332</td>\n",
       "      <td>2.6411</td>\n",
       "      <td>-0.307</td>\n",
       "      <td>1.0058</td>\n",
       "      <td>3.237468</td>\n",
       "      <td>0.000166</td>\n",
       "      <td>267.692</td>\n",
       "      <td>...</td>\n",
       "      <td>0.033167</td>\n",
       "      <td>0.041900</td>\n",
       "      <td>y_20.695_z_14.927</td>\n",
       "      <td>[658.676, 0.0, 3143.52, 0.0, 2037.61, 0.0, 683...</td>\n",
       "      <td>[100, 100, 002, 002, 101, 101, 102, 102, 110, ...</td>\n",
       "      <td>[0, 1, 0, 1, 0, 1, 0, 1, 0, 1, 0, 1, 0, 1, 0, ...</td>\n",
       "      <td>[3.77939, 0.0, 4.10577, 0.0, 4.30124, 0.0, 5.5...</td>\n",
       "      <td>0.0</td>\n",
       "      <td>489.414</td>\n",
       "      <td>0.0783</td>\n",
       "    </tr>\n",
       "    <tr>\n",
       "      <th>...</th>\n",
       "      <td>...</td>\n",
       "      <td>...</td>\n",
       "      <td>...</td>\n",
       "      <td>...</td>\n",
       "      <td>...</td>\n",
       "      <td>...</td>\n",
       "      <td>...</td>\n",
       "      <td>...</td>\n",
       "      <td>...</td>\n",
       "      <td>...</td>\n",
       "      <td>...</td>\n",
       "      <td>...</td>\n",
       "      <td>...</td>\n",
       "      <td>...</td>\n",
       "      <td>...</td>\n",
       "      <td>...</td>\n",
       "      <td>...</td>\n",
       "      <td>...</td>\n",
       "      <td>...</td>\n",
       "      <td>...</td>\n",
       "      <td>...</td>\n",
       "    </tr>\n",
       "    <tr>\n",
       "      <th>98</th>\n",
       "      <td>41.0</td>\n",
       "      <td>21.695</td>\n",
       "      <td>14.960</td>\n",
       "      <td>-0.5332</td>\n",
       "      <td>2.6411</td>\n",
       "      <td>-0.307</td>\n",
       "      <td>1.0058</td>\n",
       "      <td>3.237767</td>\n",
       "      <td>0.000180</td>\n",
       "      <td>368.222</td>\n",
       "      <td>...</td>\n",
       "      <td>30.950000</td>\n",
       "      <td>3.845000</td>\n",
       "      <td>y_21.695_z_14.960</td>\n",
       "      <td>[662.087, 0.0, 3143.19, 0.0, 1904.29, 0.0, 587...</td>\n",
       "      <td>[100, 100, 002, 002, 101, 101, 102, 102, 110, ...</td>\n",
       "      <td>[0, 1, 0, 1, 0, 1, 0, 1, 0, 1, 0, 1, 0, 1, 0, ...</td>\n",
       "      <td>[3.77966, 0.0, 4.10548, 0.0, 4.30178, 0.0, 5.5...</td>\n",
       "      <td>0.0</td>\n",
       "      <td>524.743</td>\n",
       "      <td>0.0000</td>\n",
       "    </tr>\n",
       "    <tr>\n",
       "      <th>99</th>\n",
       "      <td>43.0</td>\n",
       "      <td>21.695</td>\n",
       "      <td>14.962</td>\n",
       "      <td>-0.5332</td>\n",
       "      <td>2.6411</td>\n",
       "      <td>-0.307</td>\n",
       "      <td>1.0058</td>\n",
       "      <td>3.237762</td>\n",
       "      <td>0.000189</td>\n",
       "      <td>454.964</td>\n",
       "      <td>...</td>\n",
       "      <td>19.550000</td>\n",
       "      <td>0.000407</td>\n",
       "      <td>y_21.695_z_14.962</td>\n",
       "      <td>[613.038, 0.0, 3348.12, 0.0, 2156.54, 0.0, 648...</td>\n",
       "      <td>[100, 100, 002, 002, 101, 101, 102, 102, 110, ...</td>\n",
       "      <td>[0, 1, 0, 1, 0, 1, 0, 1, 0, 1, 0, 1, 0, 1, 0, ...</td>\n",
       "      <td>[3.77964, 0.0, 4.10544, 0.0, 4.30123, 0.0, 5.5...</td>\n",
       "      <td>0.0</td>\n",
       "      <td>572.849</td>\n",
       "      <td>0.0000</td>\n",
       "    </tr>\n",
       "    <tr>\n",
       "      <th>100</th>\n",
       "      <td>45.0</td>\n",
       "      <td>21.695</td>\n",
       "      <td>14.964</td>\n",
       "      <td>-0.5332</td>\n",
       "      <td>2.6411</td>\n",
       "      <td>-0.307</td>\n",
       "      <td>1.0058</td>\n",
       "      <td>3.237660</td>\n",
       "      <td>0.000184</td>\n",
       "      <td>317.553</td>\n",
       "      <td>...</td>\n",
       "      <td>19.800000</td>\n",
       "      <td>0.000432</td>\n",
       "      <td>y_21.695_z_14.964</td>\n",
       "      <td>[590.624, 0.0, 3345.24, 0.0, 1973.24, 0.0, 702...</td>\n",
       "      <td>[100, 100, 002, 002, 101, 101, 102, 102, 110, ...</td>\n",
       "      <td>[0, 1, 0, 1, 0, 1, 0, 1, 0, 1, 0, 1, 0, 1, 0, ...</td>\n",
       "      <td>[3.77965, 0.0, 4.10525, 0.0, 4.30137, 0.0, 5.5...</td>\n",
       "      <td>0.0</td>\n",
       "      <td>663.388</td>\n",
       "      <td>0.0000</td>\n",
       "    </tr>\n",
       "    <tr>\n",
       "      <th>101</th>\n",
       "      <td>47.0</td>\n",
       "      <td>21.695</td>\n",
       "      <td>14.966</td>\n",
       "      <td>-0.5332</td>\n",
       "      <td>2.6411</td>\n",
       "      <td>-0.307</td>\n",
       "      <td>1.0058</td>\n",
       "      <td>3.237662</td>\n",
       "      <td>0.000164</td>\n",
       "      <td>406.918</td>\n",
       "      <td>...</td>\n",
       "      <td>22.851833</td>\n",
       "      <td>11.795898</td>\n",
       "      <td>y_21.695_z_14.966</td>\n",
       "      <td>[674.558, 0.0, 3449.77, 0.0, 1948.26, 0.0, 726...</td>\n",
       "      <td>[100, 100, 002, 002, 101, 101, 102, 102, 110, ...</td>\n",
       "      <td>[0, 1, 0, 1, 0, 1, 0, 1, 0, 1, 0, 1, 0, 1, 0, ...</td>\n",
       "      <td>[3.77985, 0.0, 4.10553, 0.0, 4.30145, 0.0, 5.5...</td>\n",
       "      <td>0.0</td>\n",
       "      <td>635.361</td>\n",
       "      <td>0.0000</td>\n",
       "    </tr>\n",
       "    <tr>\n",
       "      <th>102</th>\n",
       "      <td>49.0</td>\n",
       "      <td>21.695</td>\n",
       "      <td>14.968</td>\n",
       "      <td>-0.5332</td>\n",
       "      <td>2.6411</td>\n",
       "      <td>-0.307</td>\n",
       "      <td>1.0058</td>\n",
       "      <td>3.237695</td>\n",
       "      <td>0.000156</td>\n",
       "      <td>393.365</td>\n",
       "      <td>...</td>\n",
       "      <td>19.950000</td>\n",
       "      <td>0.000399</td>\n",
       "      <td>y_21.695_z_14.968</td>\n",
       "      <td>[674.964, 0.0, 3479.8, 0.0, 1761.25, 0.0, 751....</td>\n",
       "      <td>[100, 100, 002, 002, 101, 101, 102, 102, 110, ...</td>\n",
       "      <td>[0, 1, 0, 1, 0, 1, 0, 1, 0, 1, 0, 1, 0, 1, 0, ...</td>\n",
       "      <td>[3.7798, 0.0, 4.10568, 0.0, 4.30141, 0.0, 5.58...</td>\n",
       "      <td>0.0</td>\n",
       "      <td>550.286</td>\n",
       "      <td>0.0000</td>\n",
       "    </tr>\n",
       "  </tbody>\n",
       "</table>\n",
       "<p>103 rows × 43 columns</p>\n",
       "</div>"
      ],
      "text/plain": [
       "     depth       y       z      a1    a1_1     a2    a2_1     a_lat  \\\n",
       "0      1.0  20.695  14.919 -0.5332  2.6411 -0.307  1.0058  3.237281   \n",
       "1      3.0  20.695  14.921 -0.5332  2.6411 -0.307  1.0058  3.238030   \n",
       "2      5.0  20.695  14.923 -0.5332  2.6411 -0.307  1.0058  3.237833   \n",
       "3      7.0  20.695  14.925 -0.5332  2.6411 -0.307  1.0058  3.237687   \n",
       "4      9.0  20.695  14.927 -0.5332  2.6411 -0.307  1.0058  3.237468   \n",
       "..     ...     ...     ...     ...     ...    ...     ...       ...   \n",
       "98    41.0  21.695  14.960 -0.5332  2.6411 -0.307  1.0058  3.237767   \n",
       "99    43.0  21.695  14.962 -0.5332  2.6411 -0.307  1.0058  3.237762   \n",
       "100   45.0  21.695  14.964 -0.5332  2.6411 -0.307  1.0058  3.237660   \n",
       "101   47.0  21.695  14.966 -0.5332  2.6411 -0.307  1.0058  3.237662   \n",
       "102   49.0  21.695  14.968 -0.5332  2.6411 -0.307  1.0058  3.237695   \n",
       "\n",
       "     a_lat_err        b  ...      e_neg      e_pos           filename  \\\n",
       "0     0.000195  364.943  ...   0.035055   0.060198  y_20.695_z_14.919   \n",
       "1     0.000173  235.263  ...   0.121793   0.164761  y_20.695_z_14.921   \n",
       "2     0.000165  252.502  ...   0.058155   0.060684  y_20.695_z_14.923   \n",
       "3     0.000163  336.733  ...   0.044942   0.058031  y_20.695_z_14.925   \n",
       "4     0.000166  267.692  ...   0.033167   0.041900  y_20.695_z_14.927   \n",
       "..         ...      ...  ...        ...        ...                ...   \n",
       "98    0.000180  368.222  ...  30.950000   3.845000  y_21.695_z_14.960   \n",
       "99    0.000189  454.964  ...  19.550000   0.000407  y_21.695_z_14.962   \n",
       "100   0.000184  317.553  ...  19.800000   0.000432  y_21.695_z_14.964   \n",
       "101   0.000164  406.918  ...  22.851833  11.795898  y_21.695_z_14.966   \n",
       "102   0.000156  393.365  ...  19.950000   0.000399  y_21.695_z_14.968   \n",
       "\n",
       "                                              peak_int  \\\n",
       "0    [453.834, 0.0, 3114.93, 0.0, 1801.75, 0.0, 470...   \n",
       "1    [613.416, 0.0, 3615.17, 0.0, 2189.24, 0.0, 658...   \n",
       "2    [601.963, 0.0, 3342.96, 0.0, 2015.57, 0.0, 621...   \n",
       "3    [722.936, 0.0, 3276.79, 0.0, 1902.53, 0.0, 657...   \n",
       "4    [658.676, 0.0, 3143.52, 0.0, 2037.61, 0.0, 683...   \n",
       "..                                                 ...   \n",
       "98   [662.087, 0.0, 3143.19, 0.0, 1904.29, 0.0, 587...   \n",
       "99   [613.038, 0.0, 3348.12, 0.0, 2156.54, 0.0, 648...   \n",
       "100  [590.624, 0.0, 3345.24, 0.0, 1973.24, 0.0, 702...   \n",
       "101  [674.558, 0.0, 3449.77, 0.0, 1948.26, 0.0, 726...   \n",
       "102  [674.964, 0.0, 3479.8, 0.0, 1761.25, 0.0, 751....   \n",
       "\n",
       "                                            peak_names  \\\n",
       "0    [100, 100, 002, 002, 101, 101, 102, 102, 110, ...   \n",
       "1    [100, 100, 002, 002, 101, 101, 102, 102, 110, ...   \n",
       "2    [100, 100, 002, 002, 101, 101, 102, 102, 110, ...   \n",
       "3    [100, 100, 002, 002, 101, 101, 102, 102, 110, ...   \n",
       "4    [100, 100, 002, 002, 101, 101, 102, 102, 110, ...   \n",
       "..                                                 ...   \n",
       "98   [100, 100, 002, 002, 101, 101, 102, 102, 110, ...   \n",
       "99   [100, 100, 002, 002, 101, 101, 102, 102, 110, ...   \n",
       "100  [100, 100, 002, 002, 101, 101, 102, 102, 110, ...   \n",
       "101  [100, 100, 002, 002, 101, 101, 102, 102, 110, ...   \n",
       "102  [100, 100, 002, 002, 101, 101, 102, 102, 110, ...   \n",
       "\n",
       "                                            peak_phase  \\\n",
       "0    [0, 1, 0, 1, 0, 1, 0, 1, 0, 1, 0, 1, 0, 1, 0, ...   \n",
       "1    [0, 1, 0, 1, 0, 1, 0, 1, 0, 1, 0, 1, 0, 1, 0, ...   \n",
       "2    [0, 1, 0, 1, 0, 1, 0, 1, 0, 1, 0, 1, 0, 1, 0, ...   \n",
       "3    [0, 1, 0, 1, 0, 1, 0, 1, 0, 1, 0, 1, 0, 1, 0, ...   \n",
       "4    [0, 1, 0, 1, 0, 1, 0, 1, 0, 1, 0, 1, 0, 1, 0, ...   \n",
       "..                                                 ...   \n",
       "98   [0, 1, 0, 1, 0, 1, 0, 1, 0, 1, 0, 1, 0, 1, 0, ...   \n",
       "99   [0, 1, 0, 1, 0, 1, 0, 1, 0, 1, 0, 1, 0, 1, 0, ...   \n",
       "100  [0, 1, 0, 1, 0, 1, 0, 1, 0, 1, 0, 1, 0, 1, 0, ...   \n",
       "101  [0, 1, 0, 1, 0, 1, 0, 1, 0, 1, 0, 1, 0, 1, 0, ...   \n",
       "102  [0, 1, 0, 1, 0, 1, 0, 1, 0, 1, 0, 1, 0, 1, 0, ...   \n",
       "\n",
       "                                              peak_pos  rhoIGS     wssr  \\\n",
       "0    [3.77944, 0.0, 4.10608, 0.0, 4.30165, 0.0, 5.5...     0.0  273.607   \n",
       "1    [3.77864, 0.0, 4.10613, 0.0, 4.3007, 0.0, 5.58...     0.0  555.002   \n",
       "2    [3.77894, 0.0, 4.10595, 0.0, 4.3006, 0.0, 5.58...     0.0  500.633   \n",
       "3    [3.77941, 0.0, 4.10579, 0.0, 4.30077, 0.0, 5.5...     0.0  427.219   \n",
       "4    [3.77939, 0.0, 4.10577, 0.0, 4.30124, 0.0, 5.5...     0.0  489.414   \n",
       "..                                                 ...     ...      ...   \n",
       "98   [3.77966, 0.0, 4.10548, 0.0, 4.30178, 0.0, 5.5...     0.0  524.743   \n",
       "99   [3.77964, 0.0, 4.10544, 0.0, 4.30123, 0.0, 5.5...     0.0  572.849   \n",
       "100  [3.77965, 0.0, 4.10525, 0.0, 4.30137, 0.0, 5.5...     0.0  663.388   \n",
       "101  [3.77985, 0.0, 4.10553, 0.0, 4.30145, 0.0, 5.5...     0.0  635.361   \n",
       "102  [3.7798, 0.0, 4.10568, 0.0, 4.30141, 0.0, 5.58...     0.0  550.286   \n",
       "\n",
       "        dpa  \n",
       "0    0.0577  \n",
       "1    0.0626  \n",
       "2    0.0694  \n",
       "3    0.0703  \n",
       "4    0.0783  \n",
       "..      ...  \n",
       "98   0.0000  \n",
       "99   0.0000  \n",
       "100  0.0000  \n",
       "101  0.0000  \n",
       "102  0.0000  \n",
       "\n",
       "[103 rows x 43 columns]"
      ]
     },
     "execution_count": 205,
     "metadata": {},
     "output_type": "execute_result"
    }
   ],
   "source": [
    "data_df"
   ]
  },
  {
   "cell_type": "markdown",
   "metadata": {},
   "source": [
    "## Plot every other"
   ]
  },
  {
   "cell_type": "code",
   "execution_count": 206,
   "metadata": {},
   "outputs": [],
   "source": [
    "fnames = list(directory + data_df[(data_df['y'] == unique[2]) & (data_df['depth'] > 2)]['filename'].str[0:]+'.dat')[::2][:9]\n",
    "depths = data_df[(data_df['y'] == unique[2]) & (data_df['depth'] > 2)]['depth'][::2][:9]\n",
    "dpas = data_df[(data_df['y'] == unique[2]) & (data_df['depth'] > 2)]['dpa'][::2][:9]\n",
    "\n",
    "from matplotlib.cm import get_cmap\n",
    "cmap = get_cmap('viridis')\n",
    "\n",
    "colors = [cmap(i) for i in np.linspace(0, 0.9, len(fnames))]  # Linear colour against depth\n",
    "colors = [cmap(i/np.max(dpas)) for i in dpas]                 # Linear colour against dpa\n",
    "\n",
    "f, (lax, ax) = plt.subplots(2,1, gridspec_kw={'height_ratios': [1, 5]}, figsize = (10, 5), sharex=True)\n",
    "\n",
    "i=0\n",
    "for fname, depth, c, dpa in zip(fnames, depths, colors, dpas):\n",
    "    x, y = np.loadtxt(fname, unpack=True)\n",
    "    ax.plot(x,np.log(y)+i, 'o-', markersize=1,  color=c, lw=1, label=str(depth)[:-2] + 'um = ' + str(dpa)[:4] + ' dpa')\n",
    "    i-=0.2\n",
    "    \n",
    "plt.legend()\n",
    "#plt.yscale('log')\n",
    "plt.xlim(np.min(x), np.max(x))\n",
    "\n",
    "plt.xlabel('2theta (degree)')\n",
    "plt.ylabel('log(Intensity)')\n",
    "\n",
    "\n",
    "# plot labels\n",
    "addLabels(ax=ax, lax=lax, names=phaseNames, hkls=hkls, positions=peakPos, colours=colours)"
   ]
  },
  {
   "cell_type": "markdown",
   "metadata": {},
   "source": [
    "## Plot raw data"
   ]
  },
  {
   "cell_type": "markdown",
   "metadata": {},
   "source": [
    "This makes a function so that when you click on data points in the next plot, it plots the raw data"
   ]
  },
  {
   "cell_type": "code",
   "execution_count": 207,
   "metadata": {
    "tags": []
   },
   "outputs": [],
   "source": [
    "def plotfig(num):\n",
    "    \n",
    "    f, (lax, ax) = plt.subplots(2,1, gridspec_kw={'height_ratios': [1, 5]}, figsize = (14, 8), sharex=True)\n",
    "   \n",
    "    data = list(directory + data_df['filename']+'.dat')[num]\n",
    "    back = list(directory + data_df['filename']+'.int.bg.dat')[num]\n",
    "    \n",
    "    calc = list(directory + data_df['filename']+'.int.th.dat')[num]\n",
    "\n",
    "    # Plot data\n",
    "    x_data, y_data = np.loadtxt(data, unpack=True)\n",
    "    ax.plot(x_data, y_data, '--', lw=1, c='g', label='measured')\n",
    "    \n",
    "    # Plot calculated\n",
    "    x, y = np.loadtxt(calc, unpack=True)\n",
    "    ax.plot(x, y, lw=1, c='r', label='calculated')\n",
    "\n",
    "    # Plot background\n",
    "    x, y = np.loadtxt(back, unpack=True)\n",
    "    ax.plot(x, y, '--', c='b', lw=1, label='background')\n",
    "\n",
    "    plt.legend()\n",
    "    plt.yscale('log')\n",
    "    plt.xlim(np.min(x), np.max(x))\n",
    "    \n",
    "    plt.xlabel('2theta (degrees)')\n",
    "    plt.ylabel('Intensity')\n",
    "\n",
    "    \n",
    "    # plot labels\n",
    "    \n",
    "    addLabels(ax=ax, lax=lax, names=phaseNames, hkls=hkls, positions=peakPos, colours=colours)"
   ]
  },
  {
   "cell_type": "markdown",
   "metadata": {},
   "source": [
    "## Plot"
   ]
  },
  {
   "cell_type": "markdown",
   "metadata": {},
   "source": [
    "This plots dislocation density, <a> loop fraction, M paramater and lattice paramaters as a function of depth from sample edge"
   ]
  },
  {
   "cell_type": "code",
   "execution_count": 6,
   "metadata": {},
   "outputs": [],
   "source": [
    "#data_df.to_csv('/home/rhys/Dropbox (Research Group)/Postdoc/DESY/Data_for_Andrew/Mar2022/' + name + 'data.csv')"
   ]
  },
  {
   "cell_type": "code",
   "execution_count": 208,
   "metadata": {},
   "outputs": [],
   "source": [
    "fig, axes = plt.subplots(3, 3, figsize=(16,12))\n",
    "fig.subplots_adjust(left=0.06, right=0.96, top=0.98, bottom=0.1, hspace=0.3, wspace = 0.35)\n",
    "axes = axes.ravel()\n",
    "\n",
    "param = 'Re'\n",
    "\n",
    "max_x = 40\n",
    "\n",
    "# Plot the dpa\n",
    "for sax in axes:\n",
    "    sax.set_xlabel('Depth [${\\mu}m$]', fontsize=12)\n",
    "    sec = sax.twinx()\n",
    "    sec.fill(depth, np.array(dpa), alpha=0.2)\n",
    "    sec.tick_params(axis='both', which='major', labelsize=10)\n",
    "    sec.set_xlim(0, max_x)\n",
    "    sec.set_ylim(0)\n",
    "    sec.set_ylabel('Dose [dpa]', fontsize=12)\n",
    "    \n",
    "    sax.set_zorder(sec.get_zorder()+1)\n",
    "    sax.patch.set_visible(False);\n",
    "\n",
    "# Split the lattice param axis\n",
    "lim_defs=[np.round(np.min(data_df['a_lat'])-0.002,3), np.round(np.max(data_df['a_lat'])+0.002,3), \n",
    "          np.round(np.min(data_df['c_lat'])-0.002,3), np.round(np.max(data_df['c_lat'])+0.002,3)]\n",
    "\n",
    "a_ratio = (lim_defs[1]-lim_defs[0])/((lim_defs[3]-lim_defs[2])+(lim_defs[1]-lim_defs[0]))\n",
    "\n",
    "pos_orig = axes[6].get_position() # get the original position \n",
    "axes = np.append(axes, plt.axes([pos_orig.x0, pos_orig.y0 + (pos_orig.height * (1-a_ratio)),  pos_orig.width, pos_orig.height * a_ratio] ))\n",
    "axes[9].xaxis.set_ticklabels([])\n",
    "axes[6].set_position([pos_orig.x0, pos_orig.y0,  pos_orig.width, pos_orig.height * (1-a_ratio)])\n",
    "\n",
    "# Common settings for all axes\n",
    "for sax in axes:\n",
    "    sax.set_xlim(0, max_x)\n",
    "    sax.tick_params(axis='both', which='major', labelsize=10)\n",
    "    sax.xaxis.set_ticks_position('both')\n",
    "\n",
    "#### dislocation density\n",
    "\n",
    "axes[0].errorbar(x=data_df['depth'], y=data_df['d'], yerr = [data_df['d_neg'],data_df['d_pos']],  marker='o',c='k',  ms=3, lw=0, elinewidth=1, capsize=5)\n",
    "axes[0].set_ylabel('<a> dislocation density [$10^{14} m^{-2}$]', fontsize=12)\n",
    "axes[0].set_ylim(0)\n",
    "\n",
    "d_lim = data_df['d']>0.5\n",
    "d_lim = data_df['depth']<30\n",
    "d_1_lim = data_df['d_1']>0.5\n",
    "\n",
    "if param == 'M':\n",
    "    #### m\n",
    "\n",
    "\n",
    "\n",
    "    axes[1].errorbar(x=data_df['depth'][d_lim], y=np.exp(2)*data_df['e'][d_lim], \n",
    "                     yerr = np.exp(2)*np.array([data_df['e_neg'][d_lim],data_df['e_pos'][d_lim]]), marker='o',c='k',  ms=3, lw=0, elinewidth=1, capsize=5)\n",
    "\n",
    "    axes[1].set_ylabel('$M_{<a>}$', fontsize=12)\n",
    "    axes[1].set_ylim(0)\n",
    "\n",
    "    #### m\n",
    "    axes[4].errorbar(x=data_df['depth'][d_1_lim], y=np.exp(2)*data_df['e_1'][d_1_lim], \n",
    "                     yerr = np.exp(2)*np.array([data_df['e_1_neg'][d_1_lim], data_df['e_1_pos'][d_1_lim]]), marker='o',c='k',  ms=3, lw=0, elinewidth=1, capsize=5)\n",
    "    axes[4].set_ylabel('$M_{<c>}$', fontsize=12)\n",
    "    axes[4].set_ylim(0)\n",
    "\n",
    "if param == 'Re':\n",
    "\n",
    "    axes[1].errorbar(x=data_df['depth'][d_lim], y=(100*data_df['e'][d_lim])/data_df['d'][d_lim], \n",
    "                     yerr = 100*np.array(\n",
    "                         [data_df['e_neg'][d_lim]/data_df['d_neg'][d_lim],\n",
    "                          data_df['e_pos'][d_lim]/data_df['d_pos'][d_lim]]\n",
    "                     ), marker='o',c='k',  ms=3, lw=0, elinewidth=1, capsize=5)\n",
    "\n",
    "    axes[1].set_ylabel('$Re*_{<a>}$', fontsize=12)\n",
    "    axes[1].set_ylim(0)\n",
    "\n",
    "    #### m\n",
    "    axes[4].errorbar(x=data_df['depth'][d_1_lim], y=(100*data_df['e_1'][d_1_lim])/data_df['d_1'][d_1_lim], \n",
    "                     yerr = 100*np.array(\n",
    "                         [data_df['e_1_neg'][d_1_lim]/data_df['d_1_neg'][d_1_lim],\n",
    "                          data_df['e_1_pos'][d_1_lim]/data_df['d_1_pos'][d_1_lim]]\n",
    "                     ), marker='o',c='k',  ms=3, lw=0, elinewidth=1, capsize=5)\n",
    "\n",
    "    axes[4].set_ylabel('$Re*_{<c>}$', fontsize=12)\n",
    "    axes[4].set_ylim(0)\n",
    "\n",
    "    \n",
    "    \n",
    "    \n",
    "#### dislocation density\n",
    "\n",
    "axes[3].errorbar(x=data_df['depth'], y=data_df['d_1'], yerr = [data_df['d_1_neg'],data_df['d_1_pos']],  marker='o',c='k',  ms=3, lw=0, elinewidth=1, capsize=5)\n",
    "axes[3].set_ylabel('<c> dislocation density [$10^{14} m^{-2}$]', fontsize=12)\n",
    "axes[3].set_ylim(0)\n",
    "\n",
    "#### a loop fraction\n",
    "data_df['a_frac'] = data_df['d']/(data_df['d']+data_df['d_1'])\n",
    "data_df.plot(ax=axes[2], x='depth', y='a_frac', ms=3, marker='o', c='k', lw=0,  legend=False, xlabel='Depth [${\\mu}m$]', ylabel='$f_{<a>}$', ylim=(0,1))\n",
    "\n",
    "#### c loop fraction\n",
    "data_df['c_frac'] = data_df['d_1']/(data_df['d']+data_df['d_1'])\n",
    "data_df.plot(ax=axes[5], x='depth', y='c_frac', ms=3, marker='o', c='k', lw=0,  legend=False, xlabel='Depth [${\\mu}m$]', ylabel='$f_{<c>}$', ylim=(0,1))\n",
    "\n",
    "#### c paramater\n",
    "data_df.plot(ax=axes[6], x='depth', y='c_lat', yerr='c_lat_err', ms=3, marker='o', c='k', lw=0, capsize=5, elinewidth=1, legend=False, xlabel='Depth [${\\mu}m$]', ylabel='c [Å]', ylim=(lim_defs[2], lim_defs[3]))\n",
    "axes[6].set_yticks(np.arange(lim_defs[2], lim_defs[3], 0.001)[:-1])\n",
    "\n",
    "#### a paramater\n",
    "data_df.plot(ax=axes[9], x='depth', y='a_lat', yerr='a_lat_err', ms=3, marker='o', c='k', lw=0, capsize=5, elinewidth=1, legend=False, xlabel='', ylabel='a [Å]', ylim=(lim_defs[0], lim_defs[1]))\n",
    "axes[9].set_yticks(np.arange(lim_defs[0], lim_defs[1], 0.001))\n",
    "\n",
    "#### c/a\n",
    "data_df.plot(ax=axes[7], x='depth', y='covera', yerr='covera_err', ms=3, marker='o', c='k', lw=0, capsize=5, elinewidth=1, legend=False, xlabel='Depth [${\\mu}m$]', ylabel='c/a ratio')\n",
    "\n",
    "#### cell volume\n",
    "data_df.plot(ax=axes[8], x='depth', y='covera', yerr='covera_err', ms=3, marker='o', c='k', lw=0, capsize=5, elinewidth=1, legend=False, xlabel='Depth [${\\mu}m$]', ylabel='Cell volume [$Å^3$]')\n",
    "\n",
    "plt.savefig('/home/rhys/Dropbox (Research Group)/Postdoc/DESY/Results_new/'+name+'_'+param+'_ellip1.pdf', dpi=600)\n",
    "plt.show()\n",
    "\n",
    "for ax in axes:\n",
    "    crs = mplcursors.cursor(ax,hover=False)\n",
    "\n",
    "    crs.connect(\"add\", lambda sel: sel.annotation.set_text('y={:.3f}, z={:.3f}'.format(data_df['y'][int(sel.index)], data_df['z'][int(sel.index)])))\n",
    "    crs.connect(\"add\", lambda sel: plotfig(int(sel.index)))\n",
    "    plt.show()\n",
    "    "
   ]
  },
  {
   "cell_type": "markdown",
   "metadata": {
    "tags": []
   },
   "source": [
    "## Plot dpa vs a-loop dd"
   ]
  },
  {
   "cell_type": "code",
   "execution_count": 210,
   "metadata": {},
   "outputs": [
    {
     "data": {
      "text/plain": [
       "<matplotlib.legend.Legend at 0x7ff2505c1950>"
      ]
     },
     "execution_count": 210,
     "metadata": {},
     "output_type": "execute_result"
    }
   ],
   "source": [
    "ignorefirst = 5\n",
    "ignoreafter = 25\n",
    "\n",
    "mask = (data_df['depth']>ignorefirst) & (data_df['depth']<ignoreafter)\n",
    "\n",
    "plt.errorbar(data_df['dpa'][mask], \n",
    "             data_df['d'][mask], \n",
    "             yerr=[data_df['d_neg'][mask], data_df['d_pos'][mask]],\n",
    "             ms=3, marker='o', lw=0, \n",
    "             capsize=5, elinewidth=1,\n",
    "             label=name[:3]+' dpa')\n",
    "\n",
    "plt.xlabel('Dose (DPA)')\n",
    "plt.ylabel('<a> dislocation density [$10^{14} m^{-2}$]')\n",
    "plt.legend()\n",
    "plt.tight_layout()"
   ]
  },
  {
   "cell_type": "code",
   "execution_count": null,
   "metadata": {},
   "outputs": [],
   "source": [
    "#plt.savefig('/home/rhys/Dropbox (Research Group)/Postdoc/DESY/Results_new/dpavdd_a_5_25_log.pdf', dpi=600)"
   ]
  },
  {
   "cell_type": "markdown",
   "metadata": {},
   "source": [
    "## Plot dpa vs c-loop dd"
   ]
  },
  {
   "cell_type": "code",
   "execution_count": 214,
   "metadata": {},
   "outputs": [
    {
     "data": {
      "text/plain": [
       "(<Figure size 650x320 with 1 Axes>, <AxesSubplot:>)"
      ]
     },
     "execution_count": 214,
     "metadata": {},
     "output_type": "execute_result"
    }
   ],
   "source": [
    "plt.subplots(1,1,figsize=(6.5, 3.2))"
   ]
  },
  {
   "cell_type": "code",
   "execution_count": 215,
   "metadata": {},
   "outputs": [],
   "source": [
    "ignorefirst = 5\n",
    "ignoreafter = 25\n",
    "\n",
    "mask = (data_df['depth']>ignorefirst) & (data_df['depth']<ignoreafter)\n",
    "\n",
    "\n",
    "plt.errorbar(data_df['dpa'][mask], \n",
    "             data_df['d_1'][mask], \n",
    "             yerr=[data_df['d_1_neg'][mask], data_df['d_1_pos'][mask]],\n",
    "             ms=3, marker='o', lw=0, \n",
    "             capsize=5, elinewidth=1,\n",
    "             label=name[:3]+' dpa')\n",
    "#\n",
    "plt.xlabel('Dose (DPA)')\n",
    "plt.ylabel('<c> dislocation density [$10^{14} m^{-2}$]')\n",
    "plt.tight_layout()"
   ]
  },
  {
   "cell_type": "code",
   "execution_count": 119,
   "metadata": {},
   "outputs": [
    {
     "data": {
      "text/plain": [
       "<matplotlib.legend.Legend at 0x7ff25070f090>"
      ]
     },
     "execution_count": 119,
     "metadata": {},
     "output_type": "execute_result"
    }
   ],
   "source": [
    "#plt.errorbar(x = [0.8, 3], y = [0.38, 0.95], label = '3D-LPA', ms=10, marker='x', color='k', lw=0)"
   ]
  },
  {
   "cell_type": "code",
   "execution_count": 122,
   "metadata": {},
   "outputs": [
    {
     "data": {
      "text/plain": [
       "<matplotlib.legend.Legend at 0x7ff253640e10>"
      ]
     },
     "execution_count": 122,
     "metadata": {},
     "output_type": "execute_result"
    }
   ],
   "source": [
    "plt.legend(loc='lower right', ncol=2)"
   ]
  },
  {
   "cell_type": "code",
   "execution_count": 123,
   "metadata": {},
   "outputs": [],
   "source": [
    "#plt.savefig('/home/rhys/Dropbox (Research Group)/Postdoc/DESY/Results_new/dpavdd_c_5_25.pdf', dpi=600)"
   ]
  },
  {
   "cell_type": "markdown",
   "metadata": {},
   "source": [
    "## Re vs dpa"
   ]
  },
  {
   "cell_type": "code",
   "execution_count": null,
   "metadata": {},
   "outputs": [],
   "source": [
    "data_df['Re'] = 100*(data_df['e']/np.sqrt(data_df['d']))\n",
    "\n",
    "data_df['Re_neg'] = 100/np.sqrt(data_df['d']) * data_df['e_neg'] + (50*data_df['e'])/np.power(data_df['d'], 3/2) * data_df['d_neg']\n",
    "data_df['Re_pos'] = 100/np.sqrt(data_df['d']) * data_df['e_pos'] + (50*data_df['e'])/np.power(data_df['d'], 3/2) * data_df['d_pos']"
   ]
  },
  {
   "cell_type": "code",
   "execution_count": null,
   "metadata": {},
   "outputs": [],
   "source": [
    "ignorefirst = 5\n",
    "ignoreafter = 25\n",
    "\n",
    "mask = (data_df['depth']>ignorefirst) & (data_df['depth']<ignoreafter)\n",
    "\n",
    "plt.errorbar(data_df['dpa'][mask], \n",
    "             data_df['Re'][mask], \n",
    "             yerr= [data_df['Re_neg'][mask], data_df['Re_pos'][mask]],\n",
    "             ms=3, marker='o', lw=0, \n",
    "             capsize=5, elinewidth=1,\n",
    "             label=name[:3]+' dpa')\n",
    "\n",
    "plt.xlabel('Dose (DPA)')\n",
    "plt.ylabel('Re* <a>')\n",
    "plt.legend()"
   ]
  },
  {
   "cell_type": "code",
   "execution_count": null,
   "metadata": {},
   "outputs": [],
   "source": [
    "plt.savefig('/home/rhys/Dropbox (Research Group)/Postdoc/DESY/Results_new/dpa_vs_Re_a_5_25.pdf', dpi=600)"
   ]
  },
  {
   "cell_type": "code",
   "execution_count": 37,
   "metadata": {},
   "outputs": [
    {
     "data": {
      "text/plain": [
       "<matplotlib.legend.Legend at 0x7ff252db2d50>"
      ]
     },
     "execution_count": 37,
     "metadata": {},
     "output_type": "execute_result"
    }
   ],
   "source": [
    "ignorefirst = 6\n",
    "ignoreafter = 25\n",
    "\n",
    "mask = (data_df['depth']>ignorefirst) & (data_df['depth']<ignoreafter)\n",
    "\n",
    "plt.errorbar(data_df['dpa'][mask], \n",
    "             np.exp(2)*data_df['e'][mask], \n",
    "             yerr= [np.exp(2)*data_df['e_neg'][mask], np.exp(2)*data_df['e_pos'][mask]],\n",
    "             ms=3, marker='o', lw=0, \n",
    "             capsize=5, elinewidth=1,\n",
    "             label=name[:3]+' dpa')\n",
    "\n",
    "plt.xlabel('Dose (DPA)')\n",
    "plt.ylabel('<a> M paramater')\n",
    "plt.legend()"
   ]
  },
  {
   "cell_type": "markdown",
   "metadata": {},
   "source": [
    "## Plot a-dd, c-dd, M vs depth"
   ]
  },
  {
   "cell_type": "code",
   "execution_count": 228,
   "metadata": {},
   "outputs": [],
   "source": [
    "fig, axes = plt.subplots(2, 1, figsize=(7,8))\n",
    "#fig.subplots_adjust(left=0.06, right=0.96, top=0.98, bottom=0.1, hspace=0.3, wspace = 0.35)\n",
    "axes = axes.ravel()\n",
    "\n",
    "\n",
    "max_x = 40\n",
    "\n",
    "# Common settings for all axes\n",
    "for sax in axes:\n",
    "    sax.set_xlim(0, max_x)\n",
    "    sax.tick_params(axis='both', which='major', labelsize=10)\n",
    "    sax.xaxis.set_ticks_position('both')\n",
    "    sax.set_xlabel('Depth [${\\mu}m$]', fontsize=12)\n",
    "\n",
    "#### dislocation density\n",
    "\n",
    "axes[0].errorbar(x=data_df['depth'], y=data_df['d'], yerr = [data_df['d_neg'],data_df['d_pos']],  marker='o',c='k',  ms=3, lw=0, elinewidth=1, capsize=5, label = str(dpa_val) + ' dpa')\n",
    "axes[0].set_ylabel('<a> dislocation density [$10^{14} m^{-2}$]', fontsize=12)\n",
    "axes[0].set_ylim(0)\n",
    "axes[0].legend()\n",
    "\n",
    "#### m\n",
    "\n",
    "d_lim = data_df['d']>0.5\n",
    "d_lim = data_df['depth']<30\n",
    "d_1_lim = data_df['d_1']>0.5\n",
    "\n",
    "axes[1].errorbar(x=data_df['depth'][d_lim], y=np.exp(2)*data_df['e'][d_lim], \n",
    "                 yerr = np.exp(2)*np.array([data_df['e_neg'][d_lim],data_df['e_pos'][d_lim]]), marker='o',c='k',  ms=3, lw=0, elinewidth=1, capsize=5, label = str(dpa_val) + ' dpa')\n",
    "\n",
    "axes[1].set_ylabel('$M_{<a>}$', fontsize=12)\n",
    "axes[1].set_ylim(0)\n",
    "axes[1].legend()\n",
    "\n",
    "## plt.savefig('/home/rhys/Dropbox (Research Group)/Postdoc/DESY/Results_new/'+name+'_ellip1.pdf', dpi=600)\n",
    "plt.show()\n",
    "\n",
    "for ax in axes:\n",
    "    crs = mplcursors.cursor(ax,hover=False)\n",
    "\n",
    "    crs.connect(\"add\", lambda sel: sel.annotation.set_text('y={:.3f}, z={:.3f}'.format(data_df['y'][int(sel.index)], data_df['z'][int(sel.index)])))\n",
    "    crs.connect(\"add\", lambda sel: plotfig(int(sel.index)))\n",
    "    plt.show()\n",
    "    "
   ]
  },
  {
   "cell_type": "code",
   "execution_count": null,
   "metadata": {},
   "outputs": [],
   "source": []
  },
  {
   "cell_type": "markdown",
   "metadata": {},
   "source": [
    "## Plot depth vs a-dd, c-dd, M"
   ]
  },
  {
   "cell_type": "code",
   "execution_count": 224,
   "metadata": {},
   "outputs": [],
   "source": [
    "data_df = data_df.groupby(by=['depth'], as_index=False).mean()"
   ]
  },
  {
   "cell_type": "code",
   "execution_count": 225,
   "metadata": {},
   "outputs": [],
   "source": [
    "fig, axes = plt.subplots(2, 2, figsize=(13, 6.4))\n",
    "#fig.subplots_adjust(left=0.06, right=0.96, top=0.98, bottom=0.1, hspace=0.3, wspace = 0.35)\n",
    "axes = axes.ravel()\n",
    "max_x = 40"
   ]
  },
  {
   "cell_type": "code",
   "execution_count": 226,
   "metadata": {},
   "outputs": [],
   "source": [
    "# Common settings for all axes\n",
    "for sax in axes:\n",
    "    sax.set_xlim(0, max_x)\n",
    "    sax.tick_params(axis='both', which='major', labelsize=10)\n",
    "    sax.xaxis.set_ticks_position('both')\n",
    "    sax.set_xlabel('Depth [${\\mu}m$]', fontsize=12)\n",
    "\n",
    "#### dislocation density\n",
    "\n",
    "axes[0].plot(data_df['depth'], data_df['d'], '-', lw=1, label = str(dpa_val) + ' dpa')\n",
    "axes[0].set_ylabel('<a> dislocation density [$10^{14} m^{-2}$]', fontsize=12)\n",
    "axes[0].set_ylim(0)\n",
    "axes[0].legend()\n",
    "\n",
    "#### m\n",
    "\n",
    "d_lim = data_df['d']>0.5\n",
    "d_lim = data_df['depth']<30\n",
    "d_1_lim = data_df['d_1']>0.5\n",
    "\n",
    "axes[1].plot(data_df['depth'][d_lim], np.exp(2)*data_df['e'][d_lim], '-', lw=1, label = str(dpa_val) + ' dpa')\n",
    "\n",
    "axes[1].set_ylabel('$M_{<a>}$', fontsize=12)\n",
    "axes[1].set_ylim(0)\n",
    "axes[1].legend()\n",
    "\n",
    "#### m\n",
    "\n",
    "d_lim = data_df['d']>0.5\n",
    "d_lim = data_df['depth']<30\n",
    "d_1_lim = data_df['d_1']>0.5\n",
    "\n",
    "axes[2].plot(data_df['depth'][d_lim], np.exp(2)*data_df['e_1'][d_lim], '-', lw=1, label = str(dpa_val) + ' dpa')\n",
    "\n",
    "axes[2].set_ylabel('$M_{<c>}$', fontsize=12)\n",
    "axes[2].set_ylim(0)\n",
    "axes[2].legend()\n",
    "\n",
    "#### dislocation density\n",
    "\n",
    "axes[3].plot(data_df['depth'], data_df['d_1'], '-', lw=1, label = str(dpa_val) + ' dpa')\n",
    "axes[3].set_ylabel('<c> dislocation density [$10^{14} m^{-2}$]', fontsize=12)\n",
    "axes[3].set_ylim(0)\n",
    "axes[3].legend()\n",
    "\n",
    "plt.show()\n",
    "\n",
    "for ax in axes:\n",
    "    crs = mplcursors.cursor(ax,hover=False)\n",
    "\n",
    "    crs.connect(\"add\", lambda sel: sel.annotation.set_text('y={:.3f}, z={:.3f}'.format(data_df['y'][int(sel.index)], data_df['z'][int(sel.index)])))\n",
    "    crs.connect(\"add\", lambda sel: plotfig(int(sel.index)))\n",
    "    plt.show()\n",
    "\n",
    "plt.tight_layout()"
   ]
  },
  {
   "cell_type": "code",
   "execution_count": 188,
   "metadata": {},
   "outputs": [],
   "source": [
    "#plt.savefig('/home/rhys/Dropbox (Research Group)/Postdoc/DESY/Results_new/alldpa.pdf', dpi=600)"
   ]
  },
  {
   "cell_type": "code",
   "execution_count": 168,
   "metadata": {},
   "outputs": [],
   "source": []
  }
 ],
 "metadata": {
  "kernelspec": {
   "display_name": "Python 3",
   "language": "python",
   "name": "python3"
  },
  "language_info": {
   "codemirror_mode": {
    "name": "ipython",
    "version": 3
   },
   "file_extension": ".py",
   "mimetype": "text/x-python",
   "name": "python",
   "nbconvert_exporter": "python",
   "pygments_lexer": "ipython3",
   "version": "3.7.10"
  },
  "toc-autonumbering": true,
  "toc-showcode": false,
  "toc-showmarkdowntxt": true,
  "toc-showtags": false
 },
 "nbformat": 4,
 "nbformat_minor": 4
}
