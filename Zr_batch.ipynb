{
 "cells": [
  {
   "cell_type": "markdown",
   "metadata": {},
   "source": [
    "# Workbook for automated creation  of CMWP files for a pre-integrated Zr XRD pattern"
   ]
  },
  {
   "cell_type": "markdown",
   "metadata": {},
   "source": [
    "This workbook takes a folder of .dat files and creates a .bg-spline.dat and .peak-index.dat file based on Zr peak positions."
   ]
  },
  {
   "cell_type": "markdown",
   "metadata": {},
   "source": [
    "## Import stuff"
   ]
  },
  {
   "cell_type": "code",
   "execution_count": 1,
   "metadata": {},
   "outputs": [],
   "source": [
    "import numpy as np\n",
    "import matplotlib.pyplot as plt\n",
    "%matplotlib qt\n",
    "import glob\n",
    "import csv\n",
    "from shutil import copyfile\n",
    "\n",
    "from src.xrd_tools import getReflections\n",
    "from src.cmwp_tools import getBaseline, getPeaks"
   ]
  },
  {
   "cell_type": "markdown",
   "metadata": {},
   "source": [
    "## Define settings"
   ]
  },
  {
   "cell_type": "code",
   "execution_count": 2,
   "metadata": {},
   "outputs": [],
   "source": [
    "base = '/home/rhys/Documents/CMWP-200623/testdata/'         # This is the base directory where the data is stored\n",
    "template = base + '0template/'                              # This is where the template files are stored. These are copied for each .dat file.\n",
    "\n",
    "wavelength = 1.5406                                         # Wavelength in angstrom\n",
    "\n",
    "peak_name, peak_pos = getReflections(crystalType='hcp', \n",
    "            a=3.232, c=5.147, wavelength=wavelength, printReflections=False)\n",
    "\n",
    "baseline=[30.1, 42, 52, 61, 72, 85, 101.5, 114.8]           # What 2theta points to calculte the background spline from\n",
    "baseline_interpolate = None\n",
    "\n",
    "searchrange = 20                                            # How many data points each side of the approximate 2theta peak position to search for the true peak"
   ]
  },
  {
   "cell_type": "markdown",
   "metadata": {},
   "source": [
    "## Find files"
   ]
  },
  {
   "cell_type": "code",
   "execution_count": 3,
   "metadata": {},
   "outputs": [
    {
     "name": "stdout",
     "output_type": "stream",
     "text": [
      "Found 1 files\n",
      "\t/home/rhys/Documents/CMWP-200623/testdata/W7-3_24hr-summed.dat\n",
      "\n",
      "Found 4 template files:\n",
      "\t/home/rhys/Documents/CMWP-200623/testdata/0template/template.dat.q.ini\n",
      "\t/home/rhys/Documents/CMWP-200623/testdata/0template/template.dat.fit_params.ini\n",
      "\t/home/rhys/Documents/CMWP-200623/testdata/0template/template.dat.ini\n",
      "\t/home/rhys/Documents/CMWP-200623/testdata/0template/template.dat.fit.ini\n"
     ]
    }
   ],
   "source": [
    "files = glob.glob(base + '*.dat')\n",
    "template_files = glob.glob(template + '*')\n",
    "\n",
    "files = [x for x in files if 'bg-spline' not in x]\n",
    "files = [x for x in files if 'peak-index' not in x]\n",
    "    \n",
    "print('Found {0} files'.format(len(files)))\n",
    "for file in files: print('\\t{0}'.format(file))\n",
    "print('\\nFound {0} template files:'.format(len(template_files)))\n",
    "for file in template_files: print('\\t{0}'.format(file))"
   ]
  },
  {
   "cell_type": "markdown",
   "metadata": {},
   "source": [
    "## Run"
   ]
  },
  {
   "cell_type": "code",
   "execution_count": 8,
   "metadata": {},
   "outputs": [
    {
     "name": "stdout",
     "output_type": "stream",
     "text": [
      "Done                 "
     ]
    }
   ],
   "source": [
    "for i, file in enumerate(files):\n",
    "    \n",
    "    print('\\rCurrent:   {0} / {1}'.format(i+1, len(files)), end='')\n",
    "    \n",
    "    for t_file in template_files:\n",
    "         copyfile(t_file, file.split('.')[-2] + t_file.split('/')[-1][8:])\n",
    "        \n",
    "    ########################### Load data ###########################\n",
    "    \n",
    "    data = np.loadtxt(file)\n",
    "    xvals = data[:,0]\n",
    "    yvals = data[:,1]\n",
    "\n",
    "    ########################### Make figure ###########################\n",
    "\n",
    "    plt.ioff()\n",
    "    fig, (ax) = plt.subplots(1, 1, figsize=(16,8))\n",
    "    ax.set_title(file.split('.')[-2].split('/')[-1]);\n",
    "    ax.set_xlabel('2theta (deg)', fontsize=14); \n",
    "    ax.set_ylabel('Intensity', fontsize=14);\n",
    "    plt.subplots_adjust(left=0.1, bottom=0.1, top=0.9, right=0.9, wspace=0.115, hspace=0)\n",
    "    plt.subplots_adjust(hspace=0)\n",
    "    \n",
    "    ax.plot(xvals, yvals)\n",
    "    ax.set_xlim(np.min(xvals)+0.01, np.max(xvals)-0.01)\n",
    "    ax.set_ylim(np.min(yvals)-5, np.max(yvals)*1.1)\n",
    "\n",
    "    ########################### Make bg-spline ###########################\n",
    "    \n",
    "    baseline_pos, baseline_int, cs = getBaseline(xvals, yvals, \n",
    "                                                 baseline, baseline_interpolate, \n",
    "                                                 file.split('.')[-2]+'.bg-spline.dat')\n",
    "    \n",
    "    ########################### Plot spline ###########################\n",
    "\n",
    "    ax.plot(xvals, cs(xvals))\n",
    "    ax.plot(baseline_pos, baseline_int, 'o',c='r')\n",
    "        \n",
    "    ########################### Make peak-index ###########################\n",
    "\n",
    "    peak_pos, peak_name, peak_int = getPeaks(xvals, yvals, \n",
    "                                             peak_pos, peak_name, searchrange,\n",
    "                                             file.split('.')[-2]+'.peak-index.dat')\n",
    "\n",
    "    ########################### Plot peaks ###########################\n",
    "    \n",
    "    ax.vlines(peak_pos, ymin=np.min(yvals), ymax=np.max(yvals), alpha=0.1, colors='r')\n",
    "    \n",
    "    for pos, intensity, name in zip(peak_pos, peak_int+10, peak_name):\n",
    "        ax.text(pos, intensity, name, horizontalalignment = 'center', c='r')\n",
    "\n",
    "    plt.yscale('log')\n",
    "    plt.savefig(file.split('.')[-2]+'_log.png', dpi=200)\n",
    "    plt.close()\n",
    "print('\\rDone                 '.format(i, len(files)), end='')"
   ]
  },
  {
   "cell_type": "code",
   "execution_count": null,
   "metadata": {},
   "outputs": [],
   "source": []
  }
 ],
 "metadata": {
  "kernelspec": {
   "display_name": "Python 3",
   "language": "python",
   "name": "python3"
  },
  "language_info": {
   "codemirror_mode": {
    "name": "ipython",
    "version": 3
   },
   "file_extension": ".py",
   "mimetype": "text/x-python",
   "name": "python",
   "nbconvert_exporter": "python",
   "pygments_lexer": "ipython3",
   "version": "3.7.10"
  }
 },
 "nbformat": 4,
 "nbformat_minor": 4
}
