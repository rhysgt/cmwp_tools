{
 "cells": [
  {
   "cell_type": "markdown",
   "metadata": {},
   "source": [
    "# Extract data from .sol files"
   ]
  },
  {
   "cell_type": "markdown",
   "metadata": {},
   "source": [
    "Use this if you are using the Wilkens function mode 2 to extract <a> loop (phase 0) and <c> loop (phase 1) densities"
   ]
  },
  {
   "cell_type": "markdown",
   "metadata": {},
   "source": [
    "This workbook is an example of how the extractDataDir function can be used to extract physical paramaters from a folder a .sol files. "
   ]
  },
  {
   "cell_type": "markdown",
   "metadata": {},
   "source": [
    "## Import stuff"
   ]
  },
  {
   "cell_type": "code",
   "execution_count": 2,
   "metadata": {},
   "outputs": [],
   "source": [
    "import pandas as pd\n",
    "import numpy as np\n",
    "from src.cmwp_tools import extractDataDir\n",
    "import matplotlib.pyplot as plt\n",
    "%matplotlib inline"
   ]
  },
  {
   "cell_type": "markdown",
   "metadata": {},
   "source": [
    "## Extract data from solution files"
   ]
  },
  {
   "cell_type": "markdown",
   "metadata": {},
   "source": [
    "This code extracts data from CMWP .sol files"
   ]
  },
  {
   "cell_type": "code",
   "execution_count": 15,
   "metadata": {},
   "outputs": [
    {
     "name": "stdout",
     "output_type": "stream",
     "text": [
      "Parsing 5 solution files...\n",
      "Parsed 4 solution files succesfully                                                                \n",
      "\"*** END\" not present in 1                                                                     \n",
      "Done!\n"
     ]
    }
   ],
   "source": [
    "data_df = extractDataDir('/home/rhys/Documents/CMWP-211102/Al/*.sol', calcLoop=False, calcLattice=False)\n",
    "data_df = data_df.set_index('filename')"
   ]
  },
  {
   "cell_type": "code",
   "execution_count": 16,
   "metadata": {
    "tags": []
   },
   "outputs": [
    {
     "data": {
      "text/html": [
       "<div>\n",
       "<style scoped>\n",
       "    .dataframe tbody tr th:only-of-type {\n",
       "        vertical-align: middle;\n",
       "    }\n",
       "\n",
       "    .dataframe tbody tr th {\n",
       "        vertical-align: top;\n",
       "    }\n",
       "\n",
       "    .dataframe thead th {\n",
       "        text-align: right;\n",
       "    }\n",
       "</style>\n",
       "<table border=\"1\" class=\"dataframe\">\n",
       "  <thead>\n",
       "    <tr style=\"text-align: right;\">\n",
       "      <th></th>\n",
       "      <th>a1</th>\n",
       "      <th>a2</th>\n",
       "      <th>b</th>\n",
       "      <th>c</th>\n",
       "      <th>d</th>\n",
       "      <th>e</th>\n",
       "    </tr>\n",
       "    <tr>\n",
       "      <th>filename</th>\n",
       "      <th></th>\n",
       "      <th></th>\n",
       "      <th></th>\n",
       "      <th></th>\n",
       "      <th></th>\n",
       "      <th></th>\n",
       "    </tr>\n",
       "  </thead>\n",
       "  <tbody>\n",
       "    <tr>\n",
       "      <th>AQI02_back</th>\n",
       "      <td>5.000000</td>\n",
       "      <td>-0.033727</td>\n",
       "      <td>988.4730</td>\n",
       "      <td>1.500000</td>\n",
       "      <td>5.52637</td>\n",
       "      <td>0.005000</td>\n",
       "    </tr>\n",
       "    <tr>\n",
       "      <th>AQI02_irr</th>\n",
       "      <td>-0.059119</td>\n",
       "      <td>-0.059050</td>\n",
       "      <td>80.1655</td>\n",
       "      <td>0.050000</td>\n",
       "      <td>15.05760</td>\n",
       "      <td>0.055753</td>\n",
       "    </tr>\n",
       "    <tr>\n",
       "      <th>AQI08_back</th>\n",
       "      <td>1.479580</td>\n",
       "      <td>-0.090432</td>\n",
       "      <td>673.8680</td>\n",
       "      <td>0.532895</td>\n",
       "      <td>82.42310</td>\n",
       "      <td>0.019572</td>\n",
       "    </tr>\n",
       "    <tr>\n",
       "      <th>AQI08_irr</th>\n",
       "      <td>0.029509</td>\n",
       "      <td>-0.010836</td>\n",
       "      <td>65.5439</td>\n",
       "      <td>0.095722</td>\n",
       "      <td>185.30200</td>\n",
       "      <td>0.012310</td>\n",
       "    </tr>\n",
       "  </tbody>\n",
       "</table>\n",
       "</div>"
      ],
      "text/plain": [
       "                  a1        a2         b         c          d         e\n",
       "filename                                                               \n",
       "AQI02_back  5.000000 -0.033727  988.4730  1.500000    5.52637  0.005000\n",
       "AQI02_irr  -0.059119 -0.059050   80.1655  0.050000   15.05760  0.055753\n",
       "AQI08_back  1.479580 -0.090432  673.8680  0.532895   82.42310  0.019572\n",
       "AQI08_irr   0.029509 -0.010836   65.5439  0.095722  185.30200  0.012310"
      ]
     },
     "execution_count": 16,
     "metadata": {},
     "output_type": "execute_result"
    }
   ],
   "source": [
    "data_df[['a1', 'a2', 'b', 'c', 'd', 'e']]"
   ]
  },
  {
   "cell_type": "markdown",
   "metadata": {},
   "source": [
    "## Plot"
   ]
  },
  {
   "cell_type": "markdown",
   "metadata": {},
   "source": [
    "This plots dislocation density, <a> loop fraction, M paramater and lattice paramaters as a function of depth from sample edge"
   ]
  },
  {
   "cell_type": "code",
   "execution_count": 29,
   "metadata": {},
   "outputs": [
    {
     "data": {
      "image/png": "[encoded data removed]",
      "text/plain": [
       "<Figure size 1152x720 with 9 Axes>"
      ]
     },
     "metadata": {
      "needs_background": "light"
     },
     "output_type": "display_data"
    }
   ],
   "source": [
    "fig, axes = plt.subplots(3, 3, figsize=(16,10))\n",
    "fig.subplots_adjust(left=0.06, right=0.96, top=0.98, bottom=0.1, hspace=0.3, wspace = 0.35)\n",
    "axes = axes.ravel()\n",
    "\n",
    "\n",
    "# Common settings for all axes\n",
    "for sax in axes:\n",
    "    sax.tick_params(axis='both', which='major', labelsize=10)\n",
    "    sax.xaxis.set_ticks_position('both')\n",
    "    sax.set_xlabel('Fluence [$x 10^{25} n/m^2$]', fontsize=12)\n",
    "    sax.set_ylabel('', fontsize=12)\n",
    "\n",
    "#### dislocation density\n",
    "\n",
    "axes[0].errorbar(x=data_df['fluence'], y=data_df['d'], yerr = [data_df['d_neg'],data_df['d_pos']], \n",
    "                 marker='o',c='k',  ms=3, lw=0, elinewidth=1, capsize=5)\n",
    "axes[0].set_ylabel('<a> dislocation density [$10^{14} m^{-2}$]', fontsize=12)\n",
    "axes[0].set_ylim(0)\n",
    "\n",
    "#### m\n",
    "\n",
    "axes[1].errorbar(x=data_df['fluence'], y=np.exp(2)*data_df['e'], \n",
    "                 yerr = np.exp(2)*np.array([data_df['e_neg'],data_df['e_pos']]), \n",
    "                 marker='o',c='k',  ms=3, lw=0, elinewidth=1, capsize=5)\n",
    "\n",
    "axes[1].set_ylabel('$M_{<a>}$', fontsize=12)\n",
    "axes[1].set_ylim(0)\n",
    "\n",
    "#### dislocation density\n",
    "\n",
    "axes[3].errorbar(x=data_df['fluence'], y=data_df['d_1'], \n",
    "                 yerr = [data_df['d_1_neg'],data_df['d_1_pos']],  marker='o',c='k',  ms=3, lw=0, elinewidth=1, capsize=5)\n",
    "axes[3].set_ylabel('<c> dislocation density [$10^{14} m^{-2}$]', fontsize=12)\n",
    "axes[3].set_ylim(0)\n",
    "\n",
    "#### m\n",
    "axes[4].errorbar(x=data_df['fluence'], y=np.exp(2)*data_df['e_1'], \n",
    "                 yerr = np.exp(2)*np.array([data_df['e_1_neg'],data_df['e_1_pos']]), \n",
    "                 marker='o',c='k',  ms=3, lw=0, elinewidth=1, capsize=5)\n",
    "\n",
    "\n",
    "axes[4].set_ylabel('$M_{<c>}$', fontsize=12)\n",
    "axes[4].set_ylim(0)\n",
    "\n",
    "#### a loop fraction\n",
    "data_df['a_frac'] = data_df['d']/(data_df['d']+data_df['d_1'])\n",
    "data_df.plot(ax=axes[2], x='fluence', y='a_frac', ms=3, marker='o', c='k', lw=0,  legend=False, \n",
    "             xlabel='Fluence [$x 10^{25} n/m^2$]', ylabel='$f_{<a>}$', ylim=(0,1))\n",
    "\n",
    "#### c loop fraction\n",
    "data_df['c_frac'] = data_df['d_1']/(data_df['d']+data_df['d_1'])\n",
    "data_df.plot(ax=axes[5], x='fluence', y='c_frac', ms=3, marker='o', c='k', lw=0,  legend=False, \n",
    "             xlabel='Fluence [$x 10^{25} n/m^2$]', ylabel='$f_{<c>}$', ylim=(0,1))\n",
    "\n",
    "### b\n",
    "axes[6].errorbar(x=data_df['fluence'], y=data_df['b'], \n",
    "                 yerr = np.array([data_df['b_neg'],data_df['b_pos']]), \n",
    "                 marker='o',c='k',  ms=3, lw=0, elinewidth=1, capsize=5)\n",
    "\n",
    "axes[6].set_ylabel('Median of log-normal size dist.', fontsize=12)\n",
    "axes[6].set_ylim(0)\n",
    "\n",
    "### c\n",
    "axes[7].errorbar(x=data_df['fluence'], y=data_df['c'], \n",
    "                 yerr = np.array([data_df['c_neg'],data_df['c_pos']]), \n",
    "                 marker='o',c='k',  ms=3, lw=0, elinewidth=1, capsize=5)\n",
    "\n",
    "axes[7].set_ylabel('Sigma of log-normal size dist.', fontsize=12)\n",
    "axes[7].set_ylim(0)\n",
    "\n",
    "axes[8].axis('off')\n",
    "\n",
    "plt.show()\n",
    "fig.savefig('/home/rhys/Dropbox (Research Group)/BOR60.pdf', dpi=600)\n",
    "    "
   ]
  },
  {
   "cell_type": "code",
   "execution_count": null,
   "metadata": {},
   "outputs": [],
   "source": []
  },
  {
   "cell_type": "code",
   "execution_count": null,
   "metadata": {},
   "outputs": [],
   "source": []
  }
 ],
 "metadata": {
  "kernelspec": {
   "display_name": "Python 3",
   "language": "python",
   "name": "python3"
  },
  "language_info": {
   "codemirror_mode": {
    "name": "ipython",
    "version": 3
   },
   "file_extension": ".py",
   "mimetype": "text/x-python",
   "name": "python",
   "nbconvert_exporter": "python",
   "pygments_lexer": "ipython3",
   "version": "3.7.10"
  },
  "toc-autonumbering": true,
  "toc-showcode": false,
  "toc-showmarkdowntxt": true,
  "toc-showtags": false
 },
 "nbformat": 4,
 "nbformat_minor": 4
}
