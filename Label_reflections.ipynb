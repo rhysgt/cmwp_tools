{
 "cells": [
  {
   "cell_type": "markdown",
   "id": "985c2179-04e7-468f-91f4-727dbdbe9f18",
   "metadata": {},
   "source": [
    "# Workbook for plotting and labelling an XRD pattern"
   ]
  },
  {
   "cell_type": "markdown",
   "id": "5a1d0afb-7d03-48f1-ae9d-c4e7f0fa8503",
   "metadata": {},
   "source": [
    "## Import stuff"
   ]
  },
  {
   "cell_type": "code",
   "execution_count": null,
   "id": "ed1b096e-5596-4b3a-bec5-921ec750acbc",
   "metadata": {},
   "outputs": [],
   "source": [
    "import numpy as np\n",
    "import matplotlib.pyplot as plt\n",
    "from src.xrd_tools import getReflections, addLabels\n",
    "\n",
    "%matplotlib qt"
   ]
  },
  {
   "cell_type": "markdown",
   "id": "5afbb59c-9cd3-4dff-aa30-12e3313b676e",
   "metadata": {},
   "source": [
    "## Settings"
   ]
  },
  {
   "cell_type": "code",
   "execution_count": null,
   "id": "3365733f-a975-4bcf-87db-4051a7ef4ced",
   "metadata": {},
   "outputs": [],
   "source": [
    "filename = 'data/example.dat'       # Data in two columns, 2theta and intensity\n",
    "wavelength = 1.5406                 # Wavelength in angstrom\n"
   ]
  },
  {
   "cell_type": "markdown",
   "id": "617255e5-4733-476c-aae8-1c7bb4af260d",
   "metadata": {},
   "source": [
    "## Run"
   ]
  },
  {
   "cell_type": "code",
   "execution_count": null,
   "id": "a27f4aee-a9df-47b9-a018-2110cb8a6e4d",
   "metadata": {},
   "outputs": [],
   "source": [
    "units = '2theta'\n",
    "\n",
    "x, y = np.loadtxt(filename, unpack= True)\n",
    "\n",
    "f, (lax, ax) = plt.subplots(2,1, gridspec_kw={'height_ratios': [1, 5]}, figsize = (14, 8), sharex=True)\n",
    "\n",
    "if units == 'd':\n",
    "    x = wavelength / (2* np.sin(np.deg2rad(x/2)))\n",
    "    ax.set_xlabel('d (Å)', fontsize=14)\n",
    "else:\n",
    "    ax.set_xlabel('2theta ($\\degree$)', fontsize=14)\n",
    "\n",
    "ax.plot(x, y, marker='o', markersize=1)\n",
    "ax.set_yscale('log')\n",
    "ax.set_ylabel('Intensity', fontsize=14)\n",
    "\n",
    "# Get reflections for Zr, delta hydride and SPP\n",
    "zr_peak_name, zr_peak_pos = getReflections(crystalType='hcp', a=3.232, c=5.147, wavelength=wavelength, printReflections=False, outputType=units)\n",
    "delta_peak_name, delta_peak_pos = getReflections(crystalType='fcc', a=4.777, wavelength=wavelength, printReflections=False, outputType=units)\n",
    "spp_peak_name, spp_peak_pos = getReflections(crystalType='hcp', a=5.028, c=8.248, wavelength=wavelength, printReflections=False, outputType=units)\n",
    "gamma_peak_name, gamma_peak_pos = getReflections(crystalType='fct', a=4.586, c=4.948, wavelength=wavelength, printReflections=False, outputType=units)\n",
    "\n",
    "phaseNames = ['Zr', '$\\delta$-ZrH', 'SPP', '$\\gamma$-ZrH']\n",
    "peakNames = [zr_peak_name, delta_peak_name, spp_peak_name, gamma_peak_name]\n",
    "peakPos = [zr_peak_pos, delta_peak_pos, spp_peak_pos, gamma_peak_pos]\n",
    "colours = ['b', 'r', 'g', 'k']\n",
    "\n",
    "addLabels(ax, lax, phaseNames, peakNames, peakPos, colours)\n",
    "\n",
    "plt.tight_layout()"
   ]
  },
  {
   "cell_type": "code",
   "execution_count": null,
   "id": "6a39756b-5672-4fb6-a36d-700affb253c4",
   "metadata": {},
   "outputs": [],
   "source": []
  },
  {
   "cell_type": "code",
   "execution_count": null,
   "id": "928125d8-c725-4374-80e7-c426cbe5e52f",
   "metadata": {},
   "outputs": [],
   "source": []
  },
  {
   "cell_type": "code",
   "execution_count": null,
   "id": "d6c0c07a-7aa3-4007-9862-16f6e7cf1dce",
   "metadata": {},
   "outputs": [],
   "source": []
  }
 ],
 "metadata": {
  "kernelspec": {
   "display_name": "Python 3",
   "language": "python",
   "name": "python3"
  },
  "language_info": {
   "codemirror_mode": {
    "name": "ipython",
    "version": 3
   },
   "file_extension": ".py",
   "mimetype": "text/x-python",
   "name": "python",
   "nbconvert_exporter": "python",
   "pygments_lexer": "ipython3",
   "version": "3.7.10"
  }
 },
 "nbformat": 4,
 "nbformat_minor": 5
}
