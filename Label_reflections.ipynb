{
 "cells": [
  {
   "cell_type": "markdown",
   "id": "985c2179-04e7-468f-91f4-727dbdbe9f18",
   "metadata": {},
   "source": [
    "# Workbook for plotting and labelling an XRD pattern"
   ]
  },
  {
   "cell_type": "markdown",
   "id": "5a1d0afb-7d03-48f1-ae9d-c4e7f0fa8503",
   "metadata": {},
   "source": [
    "## Import stuff"
   ]
  },
  {
   "cell_type": "code",
   "execution_count": 35,
   "id": "ed1b096e-5596-4b3a-bec5-921ec750acbc",
   "metadata": {},
   "outputs": [],
   "source": [
    "import numpy as np\n",
    "import matplotlib.pyplot as plt\n",
    "from src.xrd_tools import getReflections\n",
    "\n",
    "%matplotlib qt"
   ]
  },
  {
   "cell_type": "markdown",
   "id": "5afbb59c-9cd3-4dff-aa30-12e3313b676e",
   "metadata": {},
   "source": [
    "## Settings"
   ]
  },
  {
   "cell_type": "code",
   "execution_count": 50,
   "id": "3365733f-a975-4bcf-87db-4051a7ef4ced",
   "metadata": {},
   "outputs": [],
   "source": [
    "#filename = '/Users/user/Downloads/Post-RO-730_XRD_3column.dat'\n",
    "#filename = '/Users/user/Downloads/Post-RO-CWSR-MA2-Ge220x2-LL2-IS0.3-SDD200-2Dsc-eta178-182.ras'\n",
    "filename = '/home/rhys/Documents/CMWP-211102/2020_11_DESY/dpa2/y_9.245_z_14.850.dat'\n",
    "\n",
    "wavelength = 0.1848                                  # Wavelength in angstrom"
   ]
  },
  {
   "cell_type": "markdown",
   "id": "617255e5-4733-476c-aae8-1c7bb4af260d",
   "metadata": {},
   "source": [
    "## Run"
   ]
  },
  {
   "cell_type": "code",
   "execution_count": 52,
   "id": "a27f4aee-a9df-47b9-a018-2110cb8a6e4d",
   "metadata": {},
   "outputs": [],
   "source": [
    "units = '2theta'\n",
    "\n",
    "# Get reflections for Zr, delta hydride and SPP\n",
    "zr_peak_name, zr_peak_pos = getReflections(crystalType='hcp', a=3.232, c=5.147, wavelength=wavelength, printReflections=False, outputType=units)\n",
    "delta_peak_name, delta_peak_pos = getReflections(crystalType='fcc', a=4.777, wavelength=wavelength, printReflections=False, outputType=units)\n",
    "spp_peak_name, spp_peak_pos = getReflections(crystalType='hcp', a=5.028, c=8.248, wavelength=wavelength, printReflections=False, outputType=units)\n",
    "gamma_peak_name, gamma_peak_pos = getReflections(crystalType='fct', a=4.586, c=4.948, wavelength=wavelength, printReflections=False, outputType=units)\n",
    "\n",
    "x, y = np.loadtxt(filename, unpack= True)\n",
    "\n",
    "f, (lax, ax) = plt.subplots(2,1, gridspec_kw={'height_ratios': [1, 5]}, figsize = (14, 8), sharex=True)\n",
    "\n",
    "if units == 'd':\n",
    "    x = 1.5406 / (2* np.sin(np.deg2rad(x/2)))\n",
    "    ax.set_xlabel('d (Å)', fontsize=14)\n",
    "else:\n",
    "    ax.set_xlabel('2theta ($\\degree$)', fontsize=14)\n",
    "\n",
    "ax.plot(x, y)\n",
    "\n",
    "minx=np.min(x)\n",
    "maxx=np.max(x)\n",
    "\n",
    "ax.set_xlim(minx, maxx)\n",
    "\n",
    "ax.set_yscale('log')\n",
    "\n",
    "ax.set_ylabel('Intensity', fontsize=14)\n",
    "\n",
    "fontsize = 10\n",
    "\n",
    "yvals = np.array([0.8, 0.6, 0.4, 0.2])\n",
    "phaseNames = ['Zr', '$\\delta$-ZrH', 'SPP', 'Gamma']\n",
    "peakNames = [zr_peak_name, delta_peak_name, spp_peak_name, gamma_peak_name]\n",
    "peakPos = [zr_peak_pos, delta_peak_pos, spp_peak_pos, gamma_peak_pos]\n",
    "colours = ['b', 'r', 'g', 'k']\n",
    "\n",
    "for phase, peakName, peakPos, colour, val in zip(phaseNames, peakNames, peakPos, colours, yvals):\n",
    "\n",
    "    lax.text(x = minx, y=val, s=phase, fontsize=fontsize, c=colour, fontweight='bold', va= 'center')\n",
    "    for idx, angle in zip(peakName, peakPos):\n",
    "        if minx < angle < maxx:\n",
    "            ax.axvline(angle, alpha=0.2, c=colour)\n",
    "            lax.axvline(angle, alpha=0.2, c=colour)\n",
    "            lax.text(x=angle, y=val,  s=idx, fontsize=fontsize, c=colour, rotation=90, ha= 'center', va= 'center')\n",
    "\n",
    "lax.axis('off')\n",
    "lax.set_ylim=(np.min(yvals), np.max(yvals))\n",
    "\n",
    "plt.tight_layout()"
   ]
  },
  {
   "cell_type": "code",
   "execution_count": null,
   "id": "2c0d1627-b012-46bc-9373-b37caf0ececb",
   "metadata": {},
   "outputs": [],
   "source": []
  }
 ],
 "metadata": {
  "kernelspec": {
   "display_name": "Python 3",
   "language": "python",
   "name": "python3"
  },
  "language_info": {
   "codemirror_mode": {
    "name": "ipython",
    "version": 3
   },
   "file_extension": ".py",
   "mimetype": "text/x-python",
   "name": "python",
   "nbconvert_exporter": "python",
   "pygments_lexer": "ipython3",
   "version": "3.7.10"
  }
 },
 "nbformat": 4,
 "nbformat_minor": 5
}
