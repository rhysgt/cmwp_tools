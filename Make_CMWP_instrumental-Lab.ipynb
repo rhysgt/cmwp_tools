{
 "cells": [
  {
   "cell_type": "markdown",
   "metadata": {},
   "source": [
    "# Instrumental folder generation for CMWP"
   ]
  },
  {
   "cell_type": "code",
   "execution_count": 1,
   "metadata": {},
   "outputs": [],
   "source": [
    "import numpy as np\n",
    "import matplotlib.pyplot as plt\n",
    "import os\n",
    "from src.xrd_tools import getReflections\n",
    "from lmfit import fit_report\n",
    "from lmfit.models import LinearModel,  PseudoVoigtModel, Pearson7Model, GaussianModel, SkewedVoigtModel, SkewedGaussianModel\n",
    "from scipy.interpolate import CubicSpline\n",
    "\n",
    "%matplotlib qt5"
   ]
  },
  {
   "cell_type": "markdown",
   "metadata": {},
   "source": [
    "## Set paramaters"
   ]
  },
  {
   "cell_type": "code",
   "execution_count": 71,
   "metadata": {},
   "outputs": [],
   "source": [
    "a = 4.15691                   # a lattice paramater of the calibrant in angstrom             \n",
    "wavelength = 1.5406         # Wavelength in angstrom\n",
    "\n",
    "inputfile = '/home/rhys/Dropbox (Research Group)/XRD/BOR-60 XRD Feb 2022/LaB6-Cu-MA2-Ge220x2-LL0.5-IS0.1-tth19.5-150.5-2Dv-eta178-182.dat'\n",
    "outfolder = '/home/rhys/Documents/CMWP-211102/BOR-60 Inst'"
   ]
  },
  {
   "cell_type": "code",
   "execution_count": 72,
   "metadata": {},
   "outputs": [],
   "source": [
    "x_2theta, y = np.loadtxt(inputfile, unpack=True)\n",
    "\n",
    "y=y+1000\n",
    "\n",
    "x_k_nm = 10 * 2 * np.sin(np.deg2rad(np.array(x_2theta)/2)) / wavelength"
   ]
  },
  {
   "cell_type": "code",
   "execution_count": 73,
   "metadata": {},
   "outputs": [],
   "source": [
    "peak_name, peak_pos = getReflections(crystalType='cubic', outputType='2theta', a=a, wavelength=wavelength, printReflections=False)\n",
    "_, peak_pos_k = getReflections(crystalType='cubic', outputType='k', a=a, wavelength=wavelength, printReflections=False)\n",
    "peak_pos_k_nm = peak_pos_k*10\n",
    "\n",
    "\n",
    "baseline = (peak_pos_k_nm[:-1]+peak_pos_k_nm[1:])/2\n",
    "baseline = np.append(x_k_nm[15], baseline)"
   ]
  },
  {
   "cell_type": "markdown",
   "metadata": {},
   "source": [
    "## Subtract background"
   ]
  },
  {
   "cell_type": "code",
   "execution_count": 75,
   "metadata": {},
   "outputs": [
    {
     "data": {
      "text/plain": [
       "[<matplotlib.lines.Line2D at 0x7ff2a9219890>]"
      ]
     },
     "execution_count": 75,
     "metadata": {},
     "output_type": "execute_result"
    }
   ],
   "source": [
    "fig, ax = plt.subplots(1, 1, figsize=(20,6))\n",
    "ax.vlines(peak_pos_k_nm, ymin=0, ymax=np.max(y), alpha=0.2)\n",
    "ax.plot(x_k_nm, y, '-')\n",
    "ax.set_xlabel('K ($nm^{-1}$)', fontsize=14); ax.set_ylabel('Intensity', fontsize=14);\n",
    "ax.set_xlim(np.min(x_k_nm), np.max(x_k_nm))\n",
    "ax.set_yscale('log')\n",
    "\n",
    "plt.tight_layout()\n",
    "baseline_int=[]\n",
    "\n",
    "for j in baseline:\n",
    "    num_index =np.argmin(np.abs(x_k_nm-j))\n",
    "    baseline_int.append(np.mean(y[num_index-15:num_index+15]))\n",
    "        \n",
    "cs = CubicSpline(baseline, baseline_int)\n",
    "\n",
    "ax.plot(x_k_nm, cs(x_k_nm))\n",
    "ax.plot(baseline, baseline_int, c='r', marker='o', linewidth=0)"
   ]
  },
  {
   "cell_type": "code",
   "execution_count": 76,
   "metadata": {},
   "outputs": [],
   "source": [
    "fig, ax = plt.subplots(1, 1, figsize=(20,6))\n",
    "\n",
    "y_nobck = y-cs(x_k_nm)\n",
    "\n",
    "ax.plot(x_k_nm, y_nobck+50, '-')\n",
    "ax.set_xlabel('K ($nm^{-1}$)', fontsize=14); ax.set_ylabel('Intensity', fontsize=14);\n",
    "ax.set_xlim(np.min(x_k_nm), np.max(x_k_nm))\n",
    "ax.set_yscale('log')\n",
    "ax.hlines([50], colors='r', linewidth=3, xmin=np.min(x_k_nm), xmax=np.max(x_k_nm), zorder=20)\n",
    "plt.title('Data with background subtracted  on log scale (added 50)')\n",
    "\n",
    "actual_peaks = []\n",
    "\n",
    "for i, peak in enumerate(peak_pos_k_nm):\n",
    "    if np.min(x_k_nm) < peak < np.max(x_k_nm):\n",
    "        \n",
    "        searchrange = 10\n",
    "        \n",
    "        elem = np.abs(x_k_nm-peak).argmin()\n",
    "                 \n",
    "        peak_index = np.argmax(y_nobck[elem-searchrange:elem+searchrange])+elem-searchrange\n",
    "        peak_x = x_k_nm[peak_index]\n",
    "        actual_peaks.append(peak_x)\n",
    "        \n",
    "        ax.scatter(peak_x, y_nobck[peak_index]+50, c='r')\n",
    "        \n",
    "ax.vlines(actual_peaks, ymin=0, ymax=np.max(y), alpha=0.2)\n",
    "\n",
    "plt.tight_layout()\n"
   ]
  },
  {
   "cell_type": "markdown",
   "metadata": {},
   "source": [
    "## Fit peaks"
   ]
  },
  {
   "cell_type": "code",
   "execution_count": 85,
   "metadata": {},
   "outputs": [
    {
     "name": "stderr",
     "output_type": "stream",
     "text": [
      "/home/rhys/anaconda3/lib/python3.7/site-packages/numpy/core/fromnumeric.py:87: FutureWarning: The input object of type 'Parameters' is an array-like implementing one of the corresponding protocols (`__array__`, `__array_interface__` or `__array_struct__`); but not a sequence (or 0-D). In the future, this object will be coerced as if it was first converted using `np.array(obj)`. To retain the old behaviour, you have to either modify the type 'Parameters', or assign to an empty array created with `np.empty(correct_shape, dtype=object)`.\n",
      "  return ufunc.reduce(obj, axis, dtype, out, **passkwargs)\n",
      "/home/rhys/anaconda3/lib/python3.7/site-packages/numpy/core/fromnumeric.py:87: VisibleDeprecationWarning: Creating an ndarray from ragged nested sequences (which is a list-or-tuple of lists-or-tuples-or ndarrays with different lengths or shapes) is deprecated. If you meant to do this, you must specify 'dtype=object' when creating the ndarray.\n",
      "  return ufunc.reduce(obj, axis, dtype, out, **passkwargs)\n"
     ]
    }
   ],
   "source": [
    "models = []; pars = []; prefixes = [];\n",
    "\n",
    "for i, peak in enumerate(actual_peaks):\n",
    "        \n",
    "    search = 20 + i*10\n",
    "\n",
    "    elem = np.abs(x_k_nm-peak).argmin()\n",
    "\n",
    "    xvals = x_k_nm[elem-search:elem+search]\n",
    "    yvals = y_nobck[elem-search:elem+search]\n",
    "    \n",
    "    prefix = 'g'+str(i)+'_'\n",
    "    prefixes.append(prefix)\n",
    "    \n",
    "    mod = PseudoVoigtModel(prefix=prefix)\n",
    "    #mod = GaussianModel(prefix=prefix)\n",
    "    #mod = Pearson7Model(prefix=prefix, nan_policy='omit')\n",
    "    models.append(mod)\n",
    "    \n",
    "    par = mod.make_params()\n",
    "\n",
    "    par[prefix+'center'].set(value=peak, min=peak-0.05, max=peak+0.05)\n",
    "    par[prefix+'fraction'].set(value=0.5, min=0, max=1)\n",
    "    par[prefix+'sigma'].set(value=0.002, min=0.001, max=0.1)\n",
    "    par[prefix+'height'].set(value=(np.max(yvals)-np.min(yvals)), min=(np.max(yvals)-np.min(yvals))-100, max=(np.max(yvals)-np.min(yvals))+100)\n",
    "    pars.append(par)\n",
    "\n",
    "models = np.sum(models)\n",
    "pars = np.sum(pars)\n",
    "    \n",
    "init = models.eval(pars, x=x_k_nm)\n",
    "\n",
    "### WEIGHT METHOD NONE SQRT OR INVSQRT\n",
    "weight = 'invsqrt'\n",
    "\n",
    "addon = 2\n",
    "\n",
    "if weight == 'none':\n",
    "    out = models.fit(y_nobck+addon, pars, x=x_k_nm)\n",
    "elif weight == 'invsqrt':\n",
    "    out = models.fit(y_nobck+addon, pars, weights=1/np.sqrt(np.abs(y_nobck)+1), x=x_k_nm)\n",
    "elif weight == 'sqrt':\n",
    "    out = models.fit(y_nobck+addon, pars, weights=np.sqrt(np.abs(y_nobck)+1), x=x_k_nm)\n"
   ]
  },
  {
   "cell_type": "code",
   "execution_count": 86,
   "metadata": {},
   "outputs": [],
   "source": [
    "#out.result"
   ]
  },
  {
   "cell_type": "code",
   "execution_count": 87,
   "metadata": {
    "tags": []
   },
   "outputs": [
    {
     "data": {
      "text/plain": [
       "(1, 310993.4814879456)"
      ]
     },
     "execution_count": 87,
     "metadata": {},
     "output_type": "execute_result"
    }
   ],
   "source": [
    "elevate = 20\n",
    "fig, ax = plt.subplots(1,1, figsize=(25, 7))\n",
    "ax.plot(x_k_nm, y_nobck+elevate+addon, label='raw')\n",
    "ax.plot(x_k_nm, np.sum([out.eval_components(x=x_k_nm)[prefix] for prefix in prefixes], axis=0)+elevate, 'k--', label='fit')\n",
    "ax.legend()\n",
    "\n",
    "ax.set_title('Raw data and fit', fontsize=14)\n",
    "ax.set_xlabel('K ($nm^{-1}$)', fontsize=14); ax.set_ylabel('Intensity', fontsize=14);\n",
    "\n",
    "ax.hlines([elevate], colors='r', linewidth=1, xmin=np.min(x_k_nm), xmax=np.max(x_k_nm), zorder=20)\n",
    "\n",
    "ax.set_yscale('log')\n",
    "ax.set_ylim(1)"
   ]
  },
  {
   "cell_type": "markdown",
   "metadata": {},
   "source": [
    "## Show individual components, normalised by height"
   ]
  },
  {
   "cell_type": "code",
   "execution_count": 89,
   "metadata": {},
   "outputs": [
    {
     "name": "stdout",
     "output_type": "stream",
     "text": [
      "Prefix: g0_\tCenter: 2.406\tHeight: 75302\tSigma: 0.00340\tFraction: 0.05\n",
      "Prefix: g1_\tCenter: 3.403\tHeight: 114962\tSigma: 0.00334\tFraction: 0.07\n",
      "Prefix: g2_\tCenter: 4.168\tHeight: 50743\tSigma: 0.00324\tFraction: 0.05\n",
      "Prefix: g3_\tCenter: 4.812\tHeight: 28780\tSigma: 0.00318\tFraction: 0.07\n",
      "Prefix: g4_\tCenter: 5.380\tHeight: 60000\tSigma: 0.00320\tFraction: 0.07\n",
      "Prefix: g5_\tCenter: 5.894\tHeight: 35928\tSigma: 0.00310\tFraction: 0.08\n",
      "Prefix: g6_\tCenter: 6.806\tHeight: 12481\tSigma: 0.00313\tFraction: 0.07\n",
      "Prefix: g7_\tCenter: 7.218\tHeight: 35955\tSigma: 0.00312\tFraction: 0.08\n",
      "Prefix: g8_\tCenter: 7.609\tHeight: 26056\tSigma: 0.00307\tFraction: 0.09\n",
      "Prefix: g9_\tCenter: 7.980\tHeight: 16036\tSigma: 0.00311\tFraction: 0.10\n",
      "Prefix: g10_\tCenter: 8.335\tHeight: 2692\tSigma: 0.00316\tFraction: 0.08\n",
      "Prefix: g11_\tCenter: 8.675\tHeight: 10141\tSigma: 0.00308\tFraction: 0.09\n",
      "Prefix: g12_\tCenter: 9.003\tHeight: 20278\tSigma: 0.00300\tFraction: 0.12\n",
      "Prefix: g13_\tCenter: 9.624\tHeight: 3357\tSigma: 0.00309\tFraction: 0.07\n",
      "Prefix: g14_\tCenter: 9.921\tHeight: 15511\tSigma: 0.00309\tFraction: 0.13\n",
      "Prefix: g15_\tCenter: 10.208\tHeight: 12621\tSigma: 0.00307\tFraction: 0.11\n",
      "Prefix: g16_\tCenter: 10.488\tHeight: 5325\tSigma: 0.00312\tFraction: 0.07\n",
      "Prefix: g17_\tCenter: 10.760\tHeight: 7232\tSigma: 0.00311\tFraction: 0.07\n",
      "Prefix: g18_\tCenter: 11.026\tHeight: 14669\tSigma: 0.00300\tFraction: 0.16\n",
      "Prefix: g19_\tCenter: 11.285\tHeight: 6924\tSigma: 0.00299\tFraction: 0.17\n",
      "Prefix: g20_\tCenter: 11.787\tHeight: 4230\tSigma: 0.00294\tFraction: 0.19\n",
      "Prefix: g21_\tCenter: 12.030\tHeight: 4730\tSigma: 0.00290\tFraction: 0.18\n",
      "Prefix: g22_\tCenter: 12.268\tHeight: 17881\tSigma: 0.00303\tFraction: 0.11\n",
      "Prefix: g23_\tCenter: 12.502\tHeight: 8459\tSigma: 0.00264\tFraction: 0.41\n"
     ]
    }
   ],
   "source": [
    "sigmas = []\n",
    "\n",
    "for prefix in prefixes:\n",
    "    print('Prefix: {0}\\tCenter: {1:.3f}\\tHeight: {2:.0f}\\tSigma: {3:.5f}\\tFraction: {4:.2f}'.\n",
    "          format(prefix, \n",
    "                 out.result.params[prefix+'center'].value, \n",
    "                 out.result.params[prefix+'height'].value,\n",
    "                 out.result.params[prefix+'sigma'].value,\n",
    "                 out.result.params[prefix+'fraction'].value))\n",
    "    sigmas.append(out.result.params[prefix+'sigma'].value)"
   ]
  },
  {
   "cell_type": "code",
   "execution_count": 91,
   "metadata": {},
   "outputs": [
    {
     "data": {
      "text/plain": [
       "[<matplotlib.lines.Line2D at 0x7ff2aa184cd0>]"
      ]
     },
     "execution_count": 91,
     "metadata": {},
     "output_type": "execute_result"
    }
   ],
   "source": [
    "plt.plot(sigmas)"
   ]
  },
  {
   "cell_type": "code",
   "execution_count": 92,
   "metadata": {},
   "outputs": [],
   "source": [
    "# Expand d range to catch peaks that are clipping on edges\n",
    "\n",
    "gap=x_2theta[1]-x_2theta[0]\n",
    "new_x_2theta = np.arange(np.min(x_2theta)-2, np.max(x_2theta)+2, gap)\n",
    "new_x_k_nm = 10 * 2 * np.sin(np.deg2rad(np.array(new_x_2theta)/2)) / wavelength"
   ]
  },
  {
   "cell_type": "code",
   "execution_count": 93,
   "metadata": {},
   "outputs": [],
   "source": [
    "maxheight = np.max([out.eval_components(x=x_k_nm)[prefix] for prefix in prefixes])\n",
    "fig, ax = plt.subplots(figsize=(25,8))\n",
    "for prefix in prefixes:\n",
    "    scale_height = 1/np.max(out.eval_components(x=new_x_k_nm)[prefix])\n",
    "    ax.plot(new_x_k_nm, out.eval_components(x=new_x_k_nm)[prefix]*scale_height, label='fit')\n",
    "    #print(out.params[prefix + 'sigma'].value)\n",
    "plt.yscale('log')\n",
    "#plt.ylim(-20, 1000)"
   ]
  },
  {
   "cell_type": "markdown",
   "metadata": {},
   "source": [
    "## Save instrumental folder"
   ]
  },
  {
   "cell_type": "code",
   "execution_count": 99,
   "metadata": {},
   "outputs": [],
   "source": [
    "if not os.path.exists(outfolder):\n",
    "    os.makedirs(outfolder)\n",
    "    \n",
    "plt.figure(figsize=(20,6))\n",
    "\n",
    "for i, prefix in enumerate(prefixes[:-1]):\n",
    "    \n",
    "    search = 100 + (3 * i)\n",
    "    \n",
    "    y_out = out.eval_components(x=new_x_k_nm)[prefix]\n",
    "    \n",
    "    elem = y_out.argmax()\n",
    "\n",
    "    xvals = new_x_k_nm[elem-search:elem+search]\n",
    "    yvals = y_out[elem-search:elem+search]/np.max(y_out[elem-search:elem+search])\n",
    "\n",
    "    plt.plot(xvals, yvals, label='fit')\n",
    "    \n",
    "    xvals = xvals - out.result.params[prefix+'center'].value\n",
    "\n",
    "    peak_k = new_x_k_nm[elem]\n",
    "    \n",
    "    peak_2th = np.rad2deg(np.arcsin((peak_k * wavelength) / 20))*2\n",
    "    \n",
    "    np.savetxt(outfolder + '/' + '{0:.3f}'.format(peak_2th), np.array([xvals, yvals]).T, fmt = ('%1.8f'))"
   ]
  },
  {
   "cell_type": "code",
   "execution_count": null,
   "metadata": {},
   "outputs": [],
   "source": []
  },
  {
   "cell_type": "code",
   "execution_count": null,
   "metadata": {},
   "outputs": [],
   "source": []
  }
 ],
 "metadata": {
  "kernelspec": {
   "display_name": "Python 3",
   "language": "python",
   "name": "python3"
  },
  "language_info": {
   "codemirror_mode": {
    "name": "ipython",
    "version": 3
   },
   "file_extension": ".py",
   "mimetype": "text/x-python",
   "name": "python",
   "nbconvert_exporter": "python",
   "pygments_lexer": "ipython3",
   "version": "3.7.10"
  }
 },
 "nbformat": 4,
 "nbformat_minor": 4
}
